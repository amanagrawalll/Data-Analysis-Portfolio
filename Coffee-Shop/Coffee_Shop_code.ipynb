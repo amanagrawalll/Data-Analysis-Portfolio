{
 "cells": [
  {
   "cell_type": "markdown",
   "id": "0a3f78ce",
   "metadata": {},
   "source": [
    "# Case Study Project - Coffee Shops"
   ]
  },
  {
   "cell_type": "markdown",
   "id": "7cd4dd95",
   "metadata": {},
   "source": [
    "**Company Background**\n",
    "\n",
    "Caffeine Form is a company creating coffee cups from recycled material. Although they started selling the products on their website last year, the results were not as good as they expected. To better enter the market, they decided to collaborate with local coffee shops to advertise and sell their coffee cups.\n",
    "\n",
    "The marketing team is trying to come up with the best criteria to choose possible collaborators by investigating the local market. They think focusing on the places with the most reviews might have the biggest impact as more good reviews will create more excitement for their cups."
   ]
  },
  {
   "cell_type": "markdown",
   "id": "507dbf9e",
   "metadata": {},
   "source": [
    "**Customer Questions**\n",
    "\n",
    "They would like you to answer the following questions to help:\n",
    "\n",
    "- What is the most common place type in this local market?\n",
    "- How does the range in number of reviews differ across all shops?\n",
    "- How does the number of reviews vary across each place type?"
   ]
  },
  {
   "cell_type": "markdown",
   "id": "ed4068ae",
   "metadata": {},
   "source": [
    "The dataset needs to be validated based on the description below:\n",
    "\n",
    "|Column Name    |Criteria                                                                                      |\n",
    "|:--------------|:---------------------------------------------------------------------------------------------|\n",
    "|Region         |Character, one of 10 possible regions (A to J) where coffee shop is located.                  |\n",
    "|Place name     |Character, name of the shop.                                                                  |\n",
    "|Place type     |Character, the type of coffee shop, one of “Coffee shop”, “Cafe”,“Espresso bar”, and “Others”.|\n",
    "|Rating         |Numeric, coffee shop rating (on a 5 point scale).                                             |\n",
    "|Reviews        |Numeric, number of reviews provided for the shop. Remove the rows if the number of reviews is missing.|\n",
    "|Price          |Character, price category, one $, two or three.                                               |\n",
    "|Delivery option|Binary, describing whether there is a delivery option, either True or False.                  |\n",
    "|Dine in option |Binary, describing whether there is a dine-in option, either True or False. Replace missing values with False.|\n",
    "|Takeout option |Binary, describing whether there is a takeout option, either True or False. Replace missing values with False.|"
   ]
  },
  {
   "cell_type": "code",
   "execution_count": 1,
   "id": "9b6f412a",
   "metadata": {},
   "outputs": [],
   "source": [
    "#Importing libraries\n",
    "import pandas as pd\n",
    "import numpy as np\n",
    "import matplotlib.pyplot as plt"
   ]
  },
  {
   "cell_type": "code",
   "execution_count": 2,
   "id": "9fc56783",
   "metadata": {},
   "outputs": [
    {
     "data": {
      "text/html": [
       "<div>\n",
       "<style scoped>\n",
       "    .dataframe tbody tr th:only-of-type {\n",
       "        vertical-align: middle;\n",
       "    }\n",
       "\n",
       "    .dataframe tbody tr th {\n",
       "        vertical-align: top;\n",
       "    }\n",
       "\n",
       "    .dataframe thead th {\n",
       "        text-align: right;\n",
       "    }\n",
       "</style>\n",
       "<table border=\"1\" class=\"dataframe\">\n",
       "  <thead>\n",
       "    <tr style=\"text-align: right;\">\n",
       "      <th></th>\n",
       "      <th>Region</th>\n",
       "      <th>Place name</th>\n",
       "      <th>Place type</th>\n",
       "      <th>Rating</th>\n",
       "      <th>Reviews</th>\n",
       "      <th>Price</th>\n",
       "      <th>Delivery option</th>\n",
       "      <th>Dine in option</th>\n",
       "      <th>Takeout option</th>\n",
       "    </tr>\n",
       "  </thead>\n",
       "  <tbody>\n",
       "    <tr>\n",
       "      <th>0</th>\n",
       "      <td>C</td>\n",
       "      <td>Dim Kavu</td>\n",
       "      <td>Others</td>\n",
       "      <td>4.6</td>\n",
       "      <td>206.0</td>\n",
       "      <td>$$</td>\n",
       "      <td>False</td>\n",
       "      <td>NaN</td>\n",
       "      <td>NaN</td>\n",
       "    </tr>\n",
       "    <tr>\n",
       "      <th>1</th>\n",
       "      <td>C</td>\n",
       "      <td>Коферум</td>\n",
       "      <td>Cafe</td>\n",
       "      <td>5.0</td>\n",
       "      <td>24.0</td>\n",
       "      <td>$$</td>\n",
       "      <td>False</td>\n",
       "      <td>NaN</td>\n",
       "      <td>True</td>\n",
       "    </tr>\n",
       "    <tr>\n",
       "      <th>2</th>\n",
       "      <td>C</td>\n",
       "      <td>Кофейня Світ Чаю</td>\n",
       "      <td>Coffee shop</td>\n",
       "      <td>5.0</td>\n",
       "      <td>11.0</td>\n",
       "      <td>$$</td>\n",
       "      <td>False</td>\n",
       "      <td>NaN</td>\n",
       "      <td>True</td>\n",
       "    </tr>\n",
       "    <tr>\n",
       "      <th>3</th>\n",
       "      <td>C</td>\n",
       "      <td>Кофейня Starcoff</td>\n",
       "      <td>Coffee shop</td>\n",
       "      <td>4.4</td>\n",
       "      <td>331.0</td>\n",
       "      <td>$$</td>\n",
       "      <td>False</td>\n",
       "      <td>True</td>\n",
       "      <td>True</td>\n",
       "    </tr>\n",
       "    <tr>\n",
       "      <th>4</th>\n",
       "      <td>C</td>\n",
       "      <td>Кофейня \"Friend Zone\"</td>\n",
       "      <td>Coffee shop</td>\n",
       "      <td>5.0</td>\n",
       "      <td>12.0</td>\n",
       "      <td>$$</td>\n",
       "      <td>False</td>\n",
       "      <td>True</td>\n",
       "      <td>True</td>\n",
       "    </tr>\n",
       "  </tbody>\n",
       "</table>\n",
       "</div>"
      ],
      "text/plain": [
       "  Region             Place name   Place type  Rating  Reviews Price  \\\n",
       "0      C               Dim Kavu       Others     4.6    206.0    $$   \n",
       "1      C                Коферум         Cafe     5.0     24.0    $$   \n",
       "2      C       Кофейня Світ Чаю  Coffee shop     5.0     11.0    $$   \n",
       "3      C       Кофейня Starcoff  Coffee shop     4.4    331.0    $$   \n",
       "4      C  Кофейня \"Friend Zone\"  Coffee shop     5.0     12.0    $$   \n",
       "\n",
       "   Delivery option Dine in option Takeout option  \n",
       "0            False            NaN            NaN  \n",
       "1            False            NaN           True  \n",
       "2            False            NaN           True  \n",
       "3            False           True           True  \n",
       "4            False           True           True  "
      ]
     },
     "execution_count": 2,
     "metadata": {},
     "output_type": "execute_result"
    }
   ],
   "source": [
    "#First inspection of the data\n",
    "df = pd.read_csv(\"coffee.csv\")\n",
    "df.head()"
   ]
  },
  {
   "cell_type": "code",
   "execution_count": 3,
   "id": "f32d94bf",
   "metadata": {},
   "outputs": [
    {
     "data": {
      "text/plain": [
       "(200, 9)"
      ]
     },
     "execution_count": 3,
     "metadata": {},
     "output_type": "execute_result"
    }
   ],
   "source": [
    "# Total of records and columns, respectively\n",
    "df.shape"
   ]
  },
  {
   "cell_type": "markdown",
   "id": "7165f933",
   "metadata": {},
   "source": [
    "# Data Validation"
   ]
  },
  {
   "cell_type": "code",
   "execution_count": 4,
   "id": "185b373a",
   "metadata": {
    "scrolled": true
   },
   "outputs": [
    {
     "name": "stdout",
     "output_type": "stream",
     "text": [
      "<class 'pandas.core.frame.DataFrame'>\n",
      "RangeIndex: 200 entries, 0 to 199\n",
      "Data columns (total 9 columns):\n",
      " #   Column           Non-Null Count  Dtype  \n",
      "---  ------           --------------  -----  \n",
      " 0   Region           200 non-null    object \n",
      " 1   Place name       200 non-null    object \n",
      " 2   Place type       200 non-null    object \n",
      " 3   Rating           198 non-null    float64\n",
      " 4   Reviews          198 non-null    float64\n",
      " 5   Price            200 non-null    object \n",
      " 6   Delivery option  200 non-null    bool   \n",
      " 7   Dine in option   140 non-null    object \n",
      " 8   Takeout option   144 non-null    object \n",
      "dtypes: bool(1), float64(2), object(6)\n",
      "memory usage: 12.8+ KB\n"
     ]
    }
   ],
   "source": [
    "df.info()"
   ]
  },
  {
   "cell_type": "code",
   "execution_count": 5,
   "id": "6ffe9fee",
   "metadata": {},
   "outputs": [
    {
     "data": {
      "text/plain": [
       "A    20\n",
       "B    20\n",
       "C    20\n",
       "D    20\n",
       "E    20\n",
       "F    20\n",
       "G    20\n",
       "H    20\n",
       "I    20\n",
       "J    20\n",
       "Name: Region, dtype: int64"
      ]
     },
     "execution_count": 5,
     "metadata": {},
     "output_type": "execute_result"
    }
   ],
   "source": [
    "#Ensuring the all ten possible regions (A to J)\n",
    "df.Region.value_counts().sort_index()"
   ]
  },
  {
   "cell_type": "code",
   "execution_count": 6,
   "id": "649a4f00",
   "metadata": {},
   "outputs": [
    {
     "name": "stdout",
     "output_type": "stream",
     "text": [
      "There are 200 Places but 187 quantity of unique Places\n"
     ]
    }
   ],
   "source": [
    "print(f\"There are {len(df['Place name'])} Places but {len(df['Place name'].unique())} quantity of unique Places\")"
   ]
  },
  {
   "cell_type": "code",
   "execution_count": 7,
   "id": "ffc3583e",
   "metadata": {},
   "outputs": [
    {
     "data": {
      "text/html": [
       "<div>\n",
       "<style scoped>\n",
       "    .dataframe tbody tr th:only-of-type {\n",
       "        vertical-align: middle;\n",
       "    }\n",
       "\n",
       "    .dataframe tbody tr th {\n",
       "        vertical-align: top;\n",
       "    }\n",
       "\n",
       "    .dataframe thead th {\n",
       "        text-align: right;\n",
       "    }\n",
       "</style>\n",
       "<table border=\"1\" class=\"dataframe\">\n",
       "  <thead>\n",
       "    <tr style=\"text-align: right;\">\n",
       "      <th></th>\n",
       "      <th>Region</th>\n",
       "      <th>Place name</th>\n",
       "      <th>Place type</th>\n",
       "      <th>Rating</th>\n",
       "      <th>Reviews</th>\n",
       "      <th>Price</th>\n",
       "      <th>Delivery option</th>\n",
       "      <th>Dine in option</th>\n",
       "      <th>Takeout option</th>\n",
       "    </tr>\n",
       "  </thead>\n",
       "  <tbody>\n",
       "    <tr>\n",
       "      <th>23</th>\n",
       "      <td>J</td>\n",
       "      <td>Coffee House</td>\n",
       "      <td>Cafe</td>\n",
       "      <td>4.7</td>\n",
       "      <td>329.0</td>\n",
       "      <td>$$</td>\n",
       "      <td>False</td>\n",
       "      <td>NaN</td>\n",
       "      <td>True</td>\n",
       "    </tr>\n",
       "    <tr>\n",
       "      <th>68</th>\n",
       "      <td>B</td>\n",
       "      <td>Coffee House</td>\n",
       "      <td>Others</td>\n",
       "      <td>4.7</td>\n",
       "      <td>132.0</td>\n",
       "      <td>$$</td>\n",
       "      <td>False</td>\n",
       "      <td>NaN</td>\n",
       "      <td>NaN</td>\n",
       "    </tr>\n",
       "    <tr>\n",
       "      <th>161</th>\n",
       "      <td>I</td>\n",
       "      <td>Coffee House</td>\n",
       "      <td>Espresso bar</td>\n",
       "      <td>4.5</td>\n",
       "      <td>268.0</td>\n",
       "      <td>$$</td>\n",
       "      <td>False</td>\n",
       "      <td>NaN</td>\n",
       "      <td>NaN</td>\n",
       "    </tr>\n",
       "    <tr>\n",
       "      <th>172</th>\n",
       "      <td>I</td>\n",
       "      <td>Dim Kavy</td>\n",
       "      <td>Others</td>\n",
       "      <td>4.7</td>\n",
       "      <td>222.0</td>\n",
       "      <td>$$</td>\n",
       "      <td>False</td>\n",
       "      <td>True</td>\n",
       "      <td>True</td>\n",
       "    </tr>\n",
       "    <tr>\n",
       "      <th>171</th>\n",
       "      <td>I</td>\n",
       "      <td>Dim Kavy</td>\n",
       "      <td>Espresso bar</td>\n",
       "      <td>4.7</td>\n",
       "      <td>185.0</td>\n",
       "      <td>$$</td>\n",
       "      <td>False</td>\n",
       "      <td>NaN</td>\n",
       "      <td>NaN</td>\n",
       "    </tr>\n",
       "    <tr>\n",
       "      <th>181</th>\n",
       "      <td>H</td>\n",
       "      <td>Dim Kavy</td>\n",
       "      <td>Others</td>\n",
       "      <td>4.9</td>\n",
       "      <td>39.0</td>\n",
       "      <td>$$</td>\n",
       "      <td>False</td>\n",
       "      <td>NaN</td>\n",
       "      <td>NaN</td>\n",
       "    </tr>\n",
       "    <tr>\n",
       "      <th>66</th>\n",
       "      <td>B</td>\n",
       "      <td>Dim Kavy</td>\n",
       "      <td>Espresso bar</td>\n",
       "      <td>4.8</td>\n",
       "      <td>118.0</td>\n",
       "      <td>$$</td>\n",
       "      <td>False</td>\n",
       "      <td>NaN</td>\n",
       "      <td>NaN</td>\n",
       "    </tr>\n",
       "    <tr>\n",
       "      <th>151</th>\n",
       "      <td>G</td>\n",
       "      <td>Kaffa</td>\n",
       "      <td>Cafe</td>\n",
       "      <td>4.7</td>\n",
       "      <td>1281.0</td>\n",
       "      <td>$$</td>\n",
       "      <td>False</td>\n",
       "      <td>True</td>\n",
       "      <td>True</td>\n",
       "    </tr>\n",
       "    <tr>\n",
       "      <th>154</th>\n",
       "      <td>G</td>\n",
       "      <td>Kaffa</td>\n",
       "      <td>Espresso bar</td>\n",
       "      <td>4.8</td>\n",
       "      <td>824.0</td>\n",
       "      <td>$$</td>\n",
       "      <td>False</td>\n",
       "      <td>True</td>\n",
       "      <td>True</td>\n",
       "    </tr>\n",
       "    <tr>\n",
       "      <th>100</th>\n",
       "      <td>E</td>\n",
       "      <td>Lviv Coffee Manufacture</td>\n",
       "      <td>Coffee shop</td>\n",
       "      <td>4.7</td>\n",
       "      <td>17937.0</td>\n",
       "      <td>$$</td>\n",
       "      <td>True</td>\n",
       "      <td>True</td>\n",
       "      <td>True</td>\n",
       "    </tr>\n",
       "    <tr>\n",
       "      <th>108</th>\n",
       "      <td>E</td>\n",
       "      <td>Lviv Coffee Manufacture</td>\n",
       "      <td>Coffee shop</td>\n",
       "      <td>4.5</td>\n",
       "      <td>778.0</td>\n",
       "      <td>$$</td>\n",
       "      <td>False</td>\n",
       "      <td>True</td>\n",
       "      <td>True</td>\n",
       "    </tr>\n",
       "    <tr>\n",
       "      <th>71</th>\n",
       "      <td>B</td>\n",
       "      <td>MY COFFEE</td>\n",
       "      <td>Coffee shop</td>\n",
       "      <td>4.5</td>\n",
       "      <td>341.0</td>\n",
       "      <td>$$</td>\n",
       "      <td>False</td>\n",
       "      <td>True</td>\n",
       "      <td>True</td>\n",
       "    </tr>\n",
       "    <tr>\n",
       "      <th>97</th>\n",
       "      <td>A</td>\n",
       "      <td>MY COFFEE</td>\n",
       "      <td>Coffee shop</td>\n",
       "      <td>4.8</td>\n",
       "      <td>150.0</td>\n",
       "      <td>$$</td>\n",
       "      <td>False</td>\n",
       "      <td>True</td>\n",
       "      <td>True</td>\n",
       "    </tr>\n",
       "    <tr>\n",
       "      <th>120</th>\n",
       "      <td>D</td>\n",
       "      <td>SV Кафе</td>\n",
       "      <td>Cafe</td>\n",
       "      <td>4.5</td>\n",
       "      <td>998.0</td>\n",
       "      <td>$$</td>\n",
       "      <td>True</td>\n",
       "      <td>True</td>\n",
       "      <td>True</td>\n",
       "    </tr>\n",
       "    <tr>\n",
       "      <th>132</th>\n",
       "      <td>D</td>\n",
       "      <td>SV Кафе</td>\n",
       "      <td>Cafe</td>\n",
       "      <td>4.6</td>\n",
       "      <td>740.0</td>\n",
       "      <td>$$</td>\n",
       "      <td>False</td>\n",
       "      <td>True</td>\n",
       "      <td>True</td>\n",
       "    </tr>\n",
       "    <tr>\n",
       "      <th>101</th>\n",
       "      <td>E</td>\n",
       "      <td>Svit Kavy</td>\n",
       "      <td>Coffee shop</td>\n",
       "      <td>4.6</td>\n",
       "      <td>2931.0</td>\n",
       "      <td>$$</td>\n",
       "      <td>False</td>\n",
       "      <td>True</td>\n",
       "      <td>True</td>\n",
       "    </tr>\n",
       "    <tr>\n",
       "      <th>107</th>\n",
       "      <td>E</td>\n",
       "      <td>Svit Kavy</td>\n",
       "      <td>Coffee shop</td>\n",
       "      <td>4.3</td>\n",
       "      <td>102.0</td>\n",
       "      <td>$$</td>\n",
       "      <td>False</td>\n",
       "      <td>True</td>\n",
       "      <td>True</td>\n",
       "    </tr>\n",
       "    <tr>\n",
       "      <th>173</th>\n",
       "      <td>I</td>\n",
       "      <td>Sweeter</td>\n",
       "      <td>Coffee shop</td>\n",
       "      <td>4.6</td>\n",
       "      <td>289.0</td>\n",
       "      <td>$$</td>\n",
       "      <td>False</td>\n",
       "      <td>True</td>\n",
       "      <td>True</td>\n",
       "    </tr>\n",
       "    <tr>\n",
       "      <th>162</th>\n",
       "      <td>I</td>\n",
       "      <td>Sweeter</td>\n",
       "      <td>Coffee shop</td>\n",
       "      <td>4.6</td>\n",
       "      <td>642.0</td>\n",
       "      <td>$$</td>\n",
       "      <td>False</td>\n",
       "      <td>True</td>\n",
       "      <td>True</td>\n",
       "    </tr>\n",
       "    <tr>\n",
       "      <th>167</th>\n",
       "      <td>I</td>\n",
       "      <td>coffee House</td>\n",
       "      <td>Cafe</td>\n",
       "      <td>4.6</td>\n",
       "      <td>96.0</td>\n",
       "      <td>$$</td>\n",
       "      <td>False</td>\n",
       "      <td>NaN</td>\n",
       "      <td>NaN</td>\n",
       "    </tr>\n",
       "    <tr>\n",
       "      <th>45</th>\n",
       "      <td>F</td>\n",
       "      <td>coffee House</td>\n",
       "      <td>Coffee shop</td>\n",
       "      <td>4.7</td>\n",
       "      <td>279.0</td>\n",
       "      <td>$$</td>\n",
       "      <td>False</td>\n",
       "      <td>True</td>\n",
       "      <td>True</td>\n",
       "    </tr>\n",
       "    <tr>\n",
       "      <th>112</th>\n",
       "      <td>E</td>\n",
       "      <td>coffee House</td>\n",
       "      <td>Coffee shop</td>\n",
       "      <td>4.7</td>\n",
       "      <td>363.0</td>\n",
       "      <td>$$</td>\n",
       "      <td>False</td>\n",
       "      <td>True</td>\n",
       "      <td>True</td>\n",
       "    </tr>\n",
       "  </tbody>\n",
       "</table>\n",
       "</div>"
      ],
      "text/plain": [
       "    Region               Place name    Place type  Rating  Reviews Price  \\\n",
       "23       J             Coffee House          Cafe     4.7    329.0    $$   \n",
       "68       B             Coffee House        Others     4.7    132.0    $$   \n",
       "161      I             Coffee House  Espresso bar     4.5    268.0    $$   \n",
       "172      I                 Dim Kavy        Others     4.7    222.0    $$   \n",
       "171      I                 Dim Kavy  Espresso bar     4.7    185.0    $$   \n",
       "181      H                 Dim Kavy        Others     4.9     39.0    $$   \n",
       "66       B                 Dim Kavy  Espresso bar     4.8    118.0    $$   \n",
       "151      G                    Kaffa          Cafe     4.7   1281.0    $$   \n",
       "154      G                    Kaffa  Espresso bar     4.8    824.0    $$   \n",
       "100      E  Lviv Coffee Manufacture   Coffee shop     4.7  17937.0    $$   \n",
       "108      E  Lviv Coffee Manufacture   Coffee shop     4.5    778.0    $$   \n",
       "71       B                MY COFFEE   Coffee shop     4.5    341.0    $$   \n",
       "97       A                MY COFFEE   Coffee shop     4.8    150.0    $$   \n",
       "120      D                  SV Кафе          Cafe     4.5    998.0    $$   \n",
       "132      D                  SV Кафе          Cafe     4.6    740.0    $$   \n",
       "101      E                Svit Kavy   Coffee shop     4.6   2931.0    $$   \n",
       "107      E                Svit Kavy   Coffee shop     4.3    102.0    $$   \n",
       "173      I                  Sweeter   Coffee shop     4.6    289.0    $$   \n",
       "162      I                  Sweeter   Coffee shop     4.6    642.0    $$   \n",
       "167      I             coffee House          Cafe     4.6     96.0    $$   \n",
       "45       F             coffee House   Coffee shop     4.7    279.0    $$   \n",
       "112      E             coffee House   Coffee shop     4.7    363.0    $$   \n",
       "\n",
       "     Delivery option Dine in option Takeout option  \n",
       "23             False            NaN           True  \n",
       "68             False            NaN            NaN  \n",
       "161            False            NaN            NaN  \n",
       "172            False           True           True  \n",
       "171            False            NaN            NaN  \n",
       "181            False            NaN            NaN  \n",
       "66             False            NaN            NaN  \n",
       "151            False           True           True  \n",
       "154            False           True           True  \n",
       "100             True           True           True  \n",
       "108            False           True           True  \n",
       "71             False           True           True  \n",
       "97             False           True           True  \n",
       "120             True           True           True  \n",
       "132            False           True           True  \n",
       "101            False           True           True  \n",
       "107            False           True           True  \n",
       "173            False           True           True  \n",
       "162            False           True           True  \n",
       "167            False            NaN            NaN  \n",
       "45             False           True           True  \n",
       "112            False           True           True  "
      ]
     },
     "execution_count": 7,
     "metadata": {},
     "output_type": "execute_result"
    }
   ],
   "source": [
    "# Finding duplicates \n",
    "duplicated = list(set(list(df[df['Place name'].duplicated()]['Place name'])))\n",
    "df_duplicated = df[df['Place name'].isin(duplicated)].sort_values(by=['Place name'])\n",
    "df_duplicated"
   ]
  },
  {
   "cell_type": "markdown",
   "id": "c45a2556",
   "metadata": {},
   "source": [
    "Some of these duplicated records seems to be duplicated by its Place name, nevertheless even they have same Place name they have different Regions and different Place type , so we consider them as different locations with their own Reviews and customer experiences. Just a few of them will be removed, based on same regions, same place type and if they have a lot of Reviews (thought as outliers)"
   ]
  },
  {
   "cell_type": "code",
   "execution_count": 8,
   "id": "881064e0",
   "metadata": {},
   "outputs": [
    {
     "data": {
      "text/plain": [
       "(196, 9)"
      ]
     },
     "execution_count": 8,
     "metadata": {},
     "output_type": "execute_result"
    }
   ],
   "source": [
    "# Droping duplicated records with same region, same place type and high number of reviews (outliers)\n",
    "df = df.drop(index=[181,100,132,101])\n",
    "df.shape"
   ]
  },
  {
   "cell_type": "code",
   "execution_count": 9,
   "id": "ee564adb",
   "metadata": {},
   "outputs": [
    {
     "name": "stdout",
     "output_type": "stream",
     "text": [
      "<class 'pandas.core.frame.DataFrame'>\n",
      "Int64Index: 196 entries, 0 to 199\n",
      "Data columns (total 9 columns):\n",
      " #   Column           Non-Null Count  Dtype  \n",
      "---  ------           --------------  -----  \n",
      " 0   Region           196 non-null    object \n",
      " 1   Place name       196 non-null    object \n",
      " 2   Place type       196 non-null    object \n",
      " 3   Rating           194 non-null    float64\n",
      " 4   Reviews          194 non-null    float64\n",
      " 5   Price            196 non-null    object \n",
      " 6   Delivery option  196 non-null    bool   \n",
      " 7   Dine in option   196 non-null    bool   \n",
      " 8   Takeout option   196 non-null    bool   \n",
      "dtypes: bool(3), float64(2), object(4)\n",
      "memory usage: 11.3+ KB\n"
     ]
    }
   ],
   "source": [
    "#Ensuring consistency at Dine in option & Takeout option columns\n",
    "df['Dine in option'] = df['Dine in option'].fillna(value=False)\n",
    "df['Takeout option'] = df['Takeout option'].fillna(value=False)\n",
    "df.info()"
   ]
  },
  {
   "cell_type": "code",
   "execution_count": 10,
   "id": "1b49f6c0",
   "metadata": {},
   "outputs": [
    {
     "name": "stdout",
     "output_type": "stream",
     "text": [
      "<class 'pandas.core.frame.DataFrame'>\n",
      "Int64Index: 194 entries, 0 to 199\n",
      "Data columns (total 9 columns):\n",
      " #   Column           Non-Null Count  Dtype  \n",
      "---  ------           --------------  -----  \n",
      " 0   Region           194 non-null    object \n",
      " 1   Place name       194 non-null    object \n",
      " 2   Place type       194 non-null    object \n",
      " 3   Rating           194 non-null    float64\n",
      " 4   Reviews          194 non-null    float64\n",
      " 5   Price            194 non-null    object \n",
      " 6   Delivery option  194 non-null    bool   \n",
      " 7   Dine in option   194 non-null    bool   \n",
      " 8   Takeout option   194 non-null    bool   \n",
      "dtypes: bool(3), float64(2), object(4)\n",
      "memory usage: 11.2+ KB\n"
     ]
    }
   ],
   "source": [
    "#Removing rows with null values at Reviews Series\n",
    "df = df.dropna(axis=0, subset=['Reviews'])\n",
    "df.info()"
   ]
  },
  {
   "cell_type": "markdown",
   "id": "1eae3eda",
   "metadata": {},
   "source": [
    "Once data are cleansed, their consistency is checked"
   ]
  },
  {
   "cell_type": "code",
   "execution_count": 11,
   "id": "1f32675f",
   "metadata": {},
   "outputs": [
    {
     "data": {
      "text/plain": [
       "Coffee shop     94\n",
       "Cafe            56\n",
       "Others          24\n",
       "Espresso bar    20\n",
       "Name: Place type, dtype: int64"
      ]
     },
     "execution_count": 11,
     "metadata": {},
     "output_type": "execute_result"
    }
   ],
   "source": [
    "#Confirming the four types of coffee shop\n",
    "df['Place type'].value_counts()"
   ]
  },
  {
   "cell_type": "code",
   "execution_count": 12,
   "id": "9d19b065",
   "metadata": {},
   "outputs": [
    {
     "data": {
      "text/plain": [
       "count    194.000000\n",
       "mean       4.662887\n",
       "std        0.223175\n",
       "min        3.900000\n",
       "25%        4.600000\n",
       "50%        4.700000\n",
       "75%        4.800000\n",
       "max        5.000000\n",
       "Name: Rating, dtype: float64"
      ]
     },
     "execution_count": 12,
     "metadata": {},
     "output_type": "execute_result"
    }
   ],
   "source": [
    "# Range of Rating between 3.9 and 5.0\n",
    "df['Rating'].describe()"
   ]
  },
  {
   "cell_type": "code",
   "execution_count": 13,
   "id": "fecaef23",
   "metadata": {},
   "outputs": [
    {
     "data": {
      "text/plain": [
       "$$     188\n",
       "$$$      4\n",
       "$        2\n",
       "Name: Price, dtype: int64"
      ]
     },
     "execution_count": 13,
     "metadata": {},
     "output_type": "execute_result"
    }
   ],
   "source": [
    "#Ensuring consistency at Price column\n",
    "df['Price'].value_counts()"
   ]
  },
  {
   "cell_type": "markdown",
   "id": "7c9288a4",
   "metadata": {},
   "source": [
    "When we make sure that the Data Validation has ended it's time to go through Data Analysis trying to find answers to business questions"
   ]
  },
  {
   "cell_type": "markdown",
   "id": "6c5b5408",
   "metadata": {},
   "source": [
    "# Data Discovering and Visualization"
   ]
  },
  {
   "cell_type": "code",
   "execution_count": 14,
   "id": "dad201b3",
   "metadata": {},
   "outputs": [
    {
     "data": {
      "image/png": "[encoded data removed]",
      "text/plain": [
       "<Figure size 360x216 with 1 Axes>"
      ]
     },
     "metadata": {
      "needs_background": "light"
     },
     "output_type": "display_data"
    }
   ],
   "source": [
    "# What is the most common place type in this local market?\n",
    "\n",
    "#To find the most common place type, a good way is using bar plots based on the count of each type of places\n",
    "\n",
    "df_most_common_place_type = pd.Series(dict(df['Place type'].value_counts().sort_values(ascending=False)))\n",
    "f = plt.figure()\n",
    "f.set_figwidth(5)\n",
    "f.set_figheight(3)\n",
    "plt.bar(range(len(df_most_common_place_type)), df_most_common_place_type.values, align='center')\n",
    "plt.xticks(range(len(df_most_common_place_type)), df_most_common_place_type.index.values, size='small')\n",
    "plt.title(\"Place type frequency\", fontweight='bold')\n",
    "plt.xlabel('Place types')\n",
    "plt.ylabel('Count')\n",
    "plt.show()"
   ]
  },
  {
   "cell_type": "markdown",
   "id": "f6530107",
   "metadata": {},
   "source": [
    "As the histogram shows, the Coffee Shop type is the most commonplace. Then the Marketing Team must aim their efforts to sell to Coffee Shop type."
   ]
  },
  {
   "cell_type": "code",
   "execution_count": 15,
   "id": "c50b033a",
   "metadata": {},
   "outputs": [
    {
     "data": {
      "image/png": "[encoded data removed]",
      "text/plain": [
       "<Figure size 360x216 with 1 Axes>"
      ]
     },
     "metadata": {
      "needs_background": "light"
     },
     "output_type": "display_data"
    }
   ],
   "source": [
    "# How the range, in number of reviews, differ across all shops (general)?\n",
    "\n",
    "# Now the effort focuses on finding the distribution of reviews of the entire dataset for all shops,\n",
    "# I use histogram\n",
    "\n",
    "num_reviews = list(df['Reviews'])\n",
    "f = plt.figure()\n",
    "f.set_figwidth(5)\n",
    "f.set_figheight(3)\n",
    "# Freedman-Diaconis rule to find number of bins\n",
    "q1 = np.quantile(num_reviews, 0.25)\n",
    "q3 = np.quantile(num_reviews, 0.75)\n",
    "iqr = q3 - q1\n",
    "bin_width = (2 * iqr) / (len(num_reviews) ** (1 / 3))\n",
    "bin_count = int(np.ceil((max(num_reviews) - min(num_reviews)) / bin_width))\n",
    "plt.hist(num_reviews, bins=bin_count, range=(0,3000))\n",
    "plt.axvline(x=np.quantile(num_reviews,0.5), color= 'red', linestyle='--', label='Median')\n",
    "plt.text(280,60,np.quantile(num_reviews,0.5), fontsize='small')\n",
    "plt.axvline(x=np.mean(num_reviews), color= 'green', linestyle=':', label='Mean')\n",
    "plt.text(550,40,round(np.mean(num_reviews),2), fontsize='small')\n",
    "plt.title(\"Range in number of Reviews\", fontweight='bold')\n",
    "plt.xlabel('Number of reviews')\n",
    "plt.ylabel('Count')\n",
    "plt.legend()\n",
    "plt.show()"
   ]
  },
  {
   "cell_type": "code",
   "execution_count": 16,
   "id": "9e89c2c1",
   "metadata": {},
   "outputs": [
    {
     "data": {
      "image/png": "[encoded data removed]",
      "text/plain": [
       "<Figure size 720x216 with 1 Axes>"
      ]
     },
     "metadata": {
      "needs_background": "light"
     },
     "output_type": "display_data"
    }
   ],
   "source": [
    "# Inter Quantile Range in general number of reviews \n",
    "\n",
    "num_reviews = list(df['Reviews'])\n",
    "f = plt.figure()\n",
    "f.set_figwidth(10)\n",
    "f.set_figheight(3)\n",
    "plt.axvline(x=np.quantile(num_reviews,0.25), color= 'red', linestyle='--')\n",
    "plt.text(-25,1.2,np.quantile(num_reviews,0.25), fontsize='small')\n",
    "plt.axvline(x=np.quantile(num_reviews,0.75), color= 'red', linestyle='--')\n",
    "plt.text(790,1.2,np.quantile(num_reviews,0.75), fontsize='small')\n",
    "plt.boxplot(num_reviews, sym='', vert=False)\n",
    "plt.title('Range in number of reviews')\n",
    "plt.xlabel('Number of reviews')\n",
    "plt.show()"
   ]
  },
  {
   "cell_type": "markdown",
   "id": "3b78c257",
   "metadata": {},
   "source": [
    "As plots show, a few local coffee shops with almost 3000 reviews were found, these are considered outliers and were excluded.\n",
    "\n",
    "The Inter Quantile Range of Reviews is between 50 and 750 approx., then the Marketing Team should aim for Coffee Shops that have this number of Reviews."
   ]
  },
  {
   "cell_type": "code",
   "execution_count": 17,
   "id": "d6d8f8d6",
   "metadata": {},
   "outputs": [],
   "source": [
    "# How does the number of reviews vary across each place type?\n",
    "\n",
    "# Now it's time for inspecting the number of reviews could be different between each place type\n",
    "\n",
    "# I built a list of all Place type, removing white space to avoid some upcoming error\n",
    "\n",
    "# Next, I create four lists with reviews of every single Place type, each list has its variable name \n",
    "# which identifies where reviews belong\n",
    "\n",
    "\n",
    "df['Place type'] = df['Place type'].replace(' ','_', regex=True)\n",
    "place_types = list(df['Place type'].value_counts().index)\n",
    "# Creating four variables with reviews for each type of place\n",
    "for i in place_types:\n",
    "\tglobals()['df_' + i] = list(df[df['Place type'] == i]['Reviews'])"
   ]
  },
  {
   "cell_type": "code",
   "execution_count": 18,
   "id": "4221c5da",
   "metadata": {},
   "outputs": [
    {
     "data": {
      "image/png": "[encoded data removed]",
      "text/plain": [
       "<Figure size 720x216 with 1 Axes>"
      ]
     },
     "metadata": {
      "needs_background": "light"
     },
     "output_type": "display_data"
    }
   ],
   "source": [
    "# Distribution of Coffee Shop's reviews using histogram\n",
    "\n",
    "# Adjusting plot size\n",
    "f = plt.figure()\n",
    "f.set_figwidth(10)\n",
    "f.set_figheight(3)\n",
    "# Creating histogram\n",
    "plt.hist(df_Coffee_shop, bins=200, range=(0,3000))\n",
    "# Adding a trend line of the Median\n",
    "plt.axvline(x=np.quantile(df_Coffee_shop,0.5), color= 'red', linestyle='--', label='Median')\n",
    "plt.text(90,8,np.quantile(df_Coffee_shop,0.5), fontsize='small')\n",
    "# Adding a trend line of the Mean\n",
    "plt.axvline(x=np.mean(df_Coffee_shop), color= 'green', linestyle=':', label='Mean')\n",
    "plt.text(500,8,round(np.mean(df_Coffee_shop),2), fontsize='small')\n",
    "# Setting titles and labels\n",
    "plt.title(\"Number of reviews by Coffee shop\", fontweight='bold')\n",
    "plt.xlabel('Number of reviews')\n",
    "plt.ylabel('Count')\n",
    "plt.legend()\n",
    "# Showing plot\n",
    "plt.show()"
   ]
  },
  {
   "cell_type": "code",
   "execution_count": 19,
   "id": "42412190",
   "metadata": {},
   "outputs": [
    {
     "data": {
      "image/png": "[encoded data removed]",
      "text/plain": [
       "<Figure size 720x216 with 1 Axes>"
      ]
     },
     "metadata": {
      "needs_background": "light"
     },
     "output_type": "display_data"
    }
   ],
   "source": [
    "# Distribution of Cafe's reviews using histogram\n",
    "\n",
    "# Adjusting plot size\n",
    "f = plt.figure()\n",
    "f.set_figwidth(10)\n",
    "f.set_figheight(3)\n",
    "# Creating histogram\n",
    "plt.hist(df_Cafe, bins=200, range=(0,3000))\n",
    "# Adding a trend line of the Median\n",
    "plt.axvline(x=np.quantile(df_Cafe,0.5), color= 'red', linestyle='--', label='Median')\n",
    "plt.text(90,5,np.quantile(df_Cafe,0.5), fontsize='small')\n",
    "# Adding a trend line of the Mean\n",
    "plt.axvline(x=np.mean(df_Cafe), color= 'green', linestyle=':', label='Mean')\n",
    "plt.text(600,5,round(np.mean(df_Cafe),2), fontsize='small')\n",
    "# Setting titles and labels\n",
    "plt.title(\"Number of reviews by Cafe\", fontweight='bold')\n",
    "plt.xlabel('Number of reviews')\n",
    "plt.ylabel('Count')\n",
    "plt.legend()\n",
    "# Showing plot\n",
    "plt.show()"
   ]
  },
  {
   "cell_type": "code",
   "execution_count": 20,
   "id": "974a72e2",
   "metadata": {},
   "outputs": [
    {
     "data": {
      "image/png": "[encoded data removed]",
      "text/plain": [
       "<Figure size 720x216 with 1 Axes>"
      ]
     },
     "metadata": {
      "needs_background": "light"
     },
     "output_type": "display_data"
    }
   ],
   "source": [
    "# Distribution of Espresso bar's reviews using histogram\n",
    "\n",
    "# Adjusting plot size\n",
    "f = plt.figure()\n",
    "f.set_figwidth(10)\n",
    "f.set_figheight(3)\n",
    "# Creating histogram\n",
    "plt.hist(df_Espresso_bar, bins=200, range=(0,3000))\n",
    "# Adding a trend line of the Median\n",
    "plt.axvline(x=np.quantile(df_Espresso_bar,0.5), color= 'red', linestyle='--', label='Median')\n",
    "plt.text(0,2.03,np.quantile(df_Espresso_bar,0.5), fontsize='small')\n",
    "# Adding a trend line of the Mean\n",
    "plt.axvline(x=np.mean(df_Espresso_bar), color= 'green', linestyle=':', label='Mean')\n",
    "plt.text(600,1.75,round(np.mean(df_Espresso_bar),2), fontsize='small')\n",
    "# Setting titles and labels\n",
    "plt.title(\"Number of reviews by Espresso bar\", fontweight='bold')\n",
    "plt.xlabel('Number of reviews')\n",
    "plt.ylabel('Count')\n",
    "plt.legend()\n",
    "# Showing plot\n",
    "plt.show()"
   ]
  },
  {
   "cell_type": "code",
   "execution_count": 21,
   "id": "49efce23",
   "metadata": {},
   "outputs": [
    {
     "data": {
      "image/png": "[encoded data removed]",
      "text/plain": [
       "<Figure size 720x216 with 1 Axes>"
      ]
     },
     "metadata": {
      "needs_background": "light"
     },
     "output_type": "display_data"
    }
   ],
   "source": [
    "# Distribution of Espresso bar's reviews using histogram\n",
    "\n",
    "# Adjusting plot size\n",
    "f = plt.figure()\n",
    "f.set_figwidth(10)\n",
    "f.set_figheight(3)\n",
    "# Creating histogram\n",
    "plt.hist(df_Others, bins=200, range=(0,3000))\n",
    "# Adding a trend line of the Median\n",
    "plt.axvline(x=np.quantile(df_Others,0.5), color= 'red', linestyle='--', label='Median')\n",
    "plt.text(-40,3.03,np.quantile(df_Others,0.5), fontsize='small')\n",
    "# Adding a trend line of the Mean\n",
    "plt.axvline(x=np.mean(df_Others), color= 'green', linestyle=':', label='Mean')\n",
    "plt.text(500,1.75,round(np.mean(df_Others),2), fontsize='small')\n",
    "# Setting titles and labels\n",
    "plt.title(\"Number of reviews by Others\", fontweight='bold')\n",
    "plt.xlabel('Number of reviews')\n",
    "plt.ylabel('Count')\n",
    "plt.legend()\n",
    "# Showing plot\n",
    "plt.show()"
   ]
  },
  {
   "cell_type": "code",
   "execution_count": 22,
   "id": "f44f6756",
   "metadata": {},
   "outputs": [
    {
     "data": {
      "image/png": "[encoded data removed]",
      "text/plain": [
       "<Figure size 720x216 with 1 Axes>"
      ]
     },
     "metadata": {
      "needs_background": "light"
     },
     "output_type": "display_data"
    }
   ],
   "source": [
    "# boxplot of the Reviews from each Place type\n",
    "\n",
    "num_place_types= list(dict(df['Place type'].value_counts()).values())\n",
    "fig = plt.figure(figsize =(10, 3))\n",
    " \n",
    "# Creating axes instance\n",
    "ax = fig.add_axes([0, 0, 1, 1])\n",
    "data = [df_Coffee_shop, df_Cafe, df_Others, df_Espresso_bar] \n",
    "# Creating plot\n",
    "bp = ax.boxplot(data, sym='')\n",
    "ax.set_xticklabels(['Coffee shop', 'Cafe', 'Others', 'Espresso bar'])\n",
    "ax.set_title('Number of reviews across each Place type')\n",
    "ax.set_ylabel('Reviews')\n",
    "ax.text(-0.1,-450, \"Number of Places by type: \")\n",
    "for i,j in enumerate(num_place_types,1):\n",
    "    ax.text(i, -450, j)\n",
    "\n",
    "# showing plot\n",
    "plt.show()"
   ]
  },
  {
   "cell_type": "markdown",
   "id": "d0bfac95",
   "metadata": {},
   "source": [
    "Even though Coffee Shop has a higher mean of reviews between place types, the Coffee Shop Inter Quantile Range is smaller than the Cafe IQR and the IQR of Espresso bar. Maybe because the number of Coffee Shops within the dataset is almost double than the number of Cafes and almost five times the number of Espresso bars. So the recommendation is to focus, also, focus on those Cafe and Espresso bar places with above 500 reviews, not only Coffee Shops with between 50 and 790 reviews."
   ]
  },
  {
   "cell_type": "markdown",
   "id": "9f982b56",
   "metadata": {},
   "source": [
    "## Recomendations\n",
    "\n",
    "If the main idea of Marketing Team is to reach more customers, then they should focus on:\n",
    "\n",
    "- Coffe Shops around 500 reviews\n",
    "- Consider also Cafes and Espresso bars, also above 500 reviews"
   ]
  }
 ],
 "metadata": {
  "kernelspec": {
   "display_name": "Python 3 (ipykernel)",
   "language": "python",
   "name": "python3"
  },
  "language_info": {
   "codemirror_mode": {
    "name": "ipython",
    "version": 3
   },
   "file_extension": ".py",
   "mimetype": "text/x-python",
   "name": "python",
   "nbconvert_exporter": "python",
   "pygments_lexer": "ipython3",
   "version": "3.9.7"
  }
 },
 "nbformat": 4,
 "nbformat_minor": 5
}
