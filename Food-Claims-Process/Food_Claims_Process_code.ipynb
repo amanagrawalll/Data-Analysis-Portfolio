{
 "cells": [
  {
   "cell_type": "markdown",
   "id": "995a2d10",
   "metadata": {},
   "source": [
    "# Case Study Project - Food Claims Process"
   ]
  },
  {
   "cell_type": "markdown",
   "id": "d16197ea",
   "metadata": {},
   "source": [
    "## Company Background\n",
    "\n",
    "Vivendo is a fast food chain in Brazil with over 200 outlets. As with many fast food\n",
    "establishments, customers make claims against the company. For example, they blame\n",
    "Vivendo for suspected food poisoning.\n",
    "The legal team, who processes these claims, is currently split across four locations. The new\n",
    "head of the legal department wants to see if there are differences in the time it takes to close\n",
    "claims across the locations."
   ]
  },
  {
   "cell_type": "markdown",
   "id": "7364a1c6",
   "metadata": {},
   "source": [
    "## Customer Question\n",
    "\n",
    "The legal team has given you a data set where each row is a claim made against the\n",
    "company. They would like you to answer the following questions:\n",
    "\n",
    "- How does the number of claims differ across locations?\n",
    "- What is the distribution of time to close claims?\n",
    "- How does the average time to close claims differ by location?"
   ]
  },
  {
   "cell_type": "markdown",
   "id": "dcdbacc2",
   "metadata": {},
   "source": [
    "|Column Name          |Criteria                                                                                                                             |     \n",
    "|---------------------|-------------------------------------------------------------------------------------------------------------------------------------|  \n",
    "|Claim ID             |Character, the unique identifier of the claim.                                                                                       |\n",
    "|Time to Close        |Numeric, number of days it took for the claim to be closed.                                                                          |\n",
    "|Claim Amount         |Numeric, initial claim value in the currency of Brazil. For example,“R$50,000.00” should be converted into 50000.                    |\n",
    "|Amount Paid          |Numeric, total amount paid after the claim closed in the currency of Brazil.                                                         |\n",
    "|Location             |Character, location of the claim, one of “RECIFE”, “SAO LUIS”,“FORTALEZA”, or “NATAL”.                                               |\n",
    "|Individuals on Claim |Numeric, number of individuals on this claim.                                                                                        |\n",
    "|Linked Cases         |Binary, whether this claim is believed to be linked with other cases, either TRUE or FALSE.                                          |\n",
    "|Cause                |Character, the cause of the food poisoning injuries, one of ‘vegetable’, ‘meat’, or 'unknown’. Replace any empty rows with ‘unknown’.|"
   ]
  },
  {
   "cell_type": "code",
   "execution_count": 1,
   "id": "97a9553c",
   "metadata": {},
   "outputs": [],
   "source": [
    "# importing libraries\n",
    "import pandas as pd\n",
    "import numpy as np\n",
    "import matplotlib.pyplot as plt\n",
    "import math\n",
    "import seaborn as sns\n",
    "import statistics as st"
   ]
  },
  {
   "cell_type": "code",
   "execution_count": 2,
   "id": "c3e5ba6d",
   "metadata": {},
   "outputs": [
    {
     "data": {
      "text/html": [
       "<div>\n",
       "<style scoped>\n",
       "    .dataframe tbody tr th:only-of-type {\n",
       "        vertical-align: middle;\n",
       "    }\n",
       "\n",
       "    .dataframe tbody tr th {\n",
       "        vertical-align: top;\n",
       "    }\n",
       "\n",
       "    .dataframe thead th {\n",
       "        text-align: right;\n",
       "    }\n",
       "</style>\n",
       "<table border=\"1\" class=\"dataframe\">\n",
       "  <thead>\n",
       "    <tr style=\"text-align: right;\">\n",
       "      <th></th>\n",
       "      <th>Claim ID</th>\n",
       "      <th>Time to Close</th>\n",
       "      <th>Claim Amount</th>\n",
       "      <th>Amount Paid</th>\n",
       "      <th>Location</th>\n",
       "      <th>Individuals on Claim</th>\n",
       "      <th>Linked Cases</th>\n",
       "      <th>Cause</th>\n",
       "    </tr>\n",
       "  </thead>\n",
       "  <tbody>\n",
       "    <tr>\n",
       "      <th>0</th>\n",
       "      <td>0000000-00.2010.0.00.0094</td>\n",
       "      <td>2082</td>\n",
       "      <td>R$50,000.00</td>\n",
       "      <td>34297.47</td>\n",
       "      <td>RECIFE</td>\n",
       "      <td>2</td>\n",
       "      <td>False</td>\n",
       "      <td>NaN</td>\n",
       "    </tr>\n",
       "    <tr>\n",
       "      <th>1</th>\n",
       "      <td>0000000-00.2011.0.00.0086</td>\n",
       "      <td>3591</td>\n",
       "      <td>R$180,000.00</td>\n",
       "      <td>56383.54</td>\n",
       "      <td>SAO LUIS</td>\n",
       "      <td>7</td>\n",
       "      <td>False</td>\n",
       "      <td>NaN</td>\n",
       "    </tr>\n",
       "    <tr>\n",
       "      <th>2</th>\n",
       "      <td>0000000-00.2012.0.00.0092</td>\n",
       "      <td>2997</td>\n",
       "      <td>R$70,000.00</td>\n",
       "      <td>12366.76</td>\n",
       "      <td>SAO LUIS</td>\n",
       "      <td>3</td>\n",
       "      <td>False</td>\n",
       "      <td>vegetables</td>\n",
       "    </tr>\n",
       "    <tr>\n",
       "      <th>3</th>\n",
       "      <td>0000000-00.2013.0.00.0096</td>\n",
       "      <td>1143</td>\n",
       "      <td>R$95,104.00</td>\n",
       "      <td>29217.16</td>\n",
       "      <td>FORTALEZA</td>\n",
       "      <td>4</td>\n",
       "      <td>False</td>\n",
       "      <td>NaN</td>\n",
       "    </tr>\n",
       "    <tr>\n",
       "      <th>4</th>\n",
       "      <td>0000000-00.2014.0.00.0097</td>\n",
       "      <td>117</td>\n",
       "      <td>R$29,000.00</td>\n",
       "      <td>12610.50</td>\n",
       "      <td>FORTALEZA</td>\n",
       "      <td>1</td>\n",
       "      <td>False</td>\n",
       "      <td>meat</td>\n",
       "    </tr>\n",
       "    <tr>\n",
       "      <th>5</th>\n",
       "      <td>0000000-00.2014.0.00.0077</td>\n",
       "      <td>578</td>\n",
       "      <td>R$150,000.00</td>\n",
       "      <td>23214.56</td>\n",
       "      <td>FORTALEZA</td>\n",
       "      <td>6</td>\n",
       "      <td>False</td>\n",
       "      <td>NaN</td>\n",
       "    </tr>\n",
       "    <tr>\n",
       "      <th>6</th>\n",
       "      <td>0000000-00.2014.0.00.0076</td>\n",
       "      <td>378</td>\n",
       "      <td>R$50,000.00</td>\n",
       "      <td>25281.18</td>\n",
       "      <td>NATAL</td>\n",
       "      <td>2</td>\n",
       "      <td>False</td>\n",
       "      <td>meat</td>\n",
       "    </tr>\n",
       "    <tr>\n",
       "      <th>7</th>\n",
       "      <td>0000000-00.2014.0.00.0043</td>\n",
       "      <td>2354</td>\n",
       "      <td>R$40,870.00</td>\n",
       "      <td>24161.73</td>\n",
       "      <td>FORTALEZA</td>\n",
       "      <td>1</td>\n",
       "      <td>False</td>\n",
       "      <td>NaN</td>\n",
       "    </tr>\n",
       "    <tr>\n",
       "      <th>8</th>\n",
       "      <td>0000000-00.2014.0.00.0071</td>\n",
       "      <td>2325</td>\n",
       "      <td>R$70,000.00</td>\n",
       "      <td>37464.39</td>\n",
       "      <td>FORTALEZA</td>\n",
       "      <td>3</td>\n",
       "      <td>False</td>\n",
       "      <td>NaN</td>\n",
       "    </tr>\n",
       "    <tr>\n",
       "      <th>9</th>\n",
       "      <td>0000000-00.2015.0.00.0000</td>\n",
       "      <td>2058</td>\n",
       "      <td>R$55,000.00</td>\n",
       "      <td>9199.03</td>\n",
       "      <td>RECIFE</td>\n",
       "      <td>2</td>\n",
       "      <td>False</td>\n",
       "      <td>NaN</td>\n",
       "    </tr>\n",
       "  </tbody>\n",
       "</table>\n",
       "</div>"
      ],
      "text/plain": [
       "                    Claim ID  Time to Close  Claim Amount  Amount Paid  \\\n",
       "0  0000000-00.2010.0.00.0094           2082   R$50,000.00     34297.47   \n",
       "1  0000000-00.2011.0.00.0086           3591  R$180,000.00     56383.54   \n",
       "2  0000000-00.2012.0.00.0092           2997   R$70,000.00     12366.76   \n",
       "3  0000000-00.2013.0.00.0096           1143   R$95,104.00     29217.16   \n",
       "4  0000000-00.2014.0.00.0097            117   R$29,000.00     12610.50   \n",
       "5  0000000-00.2014.0.00.0077            578  R$150,000.00     23214.56   \n",
       "6  0000000-00.2014.0.00.0076            378   R$50,000.00     25281.18   \n",
       "7  0000000-00.2014.0.00.0043           2354   R$40,870.00     24161.73   \n",
       "8  0000000-00.2014.0.00.0071           2325   R$70,000.00     37464.39   \n",
       "9  0000000-00.2015.0.00.0000           2058   R$55,000.00      9199.03   \n",
       "\n",
       "    Location  Individuals on Claim  Linked Cases       Cause  \n",
       "0     RECIFE                     2         False         NaN  \n",
       "1   SAO LUIS                     7         False         NaN  \n",
       "2   SAO LUIS                     3         False  vegetables  \n",
       "3  FORTALEZA                     4         False         NaN  \n",
       "4  FORTALEZA                     1         False        meat  \n",
       "5  FORTALEZA                     6         False         NaN  \n",
       "6      NATAL                     2         False        meat  \n",
       "7  FORTALEZA                     1         False         NaN  \n",
       "8  FORTALEZA                     3         False         NaN  \n",
       "9     RECIFE                     2         False         NaN  "
      ]
     },
     "execution_count": 2,
     "metadata": {},
     "output_type": "execute_result"
    }
   ],
   "source": [
    "# First inspection of DataFrame\n",
    "df = pd.read_csv('claims.csv')\n",
    "df.head(10)"
   ]
  },
  {
   "cell_type": "markdown",
   "id": "22d5b8be",
   "metadata": {},
   "source": [
    "# Data Validation"
   ]
  },
  {
   "cell_type": "code",
   "execution_count": 3,
   "id": "86cfecdf",
   "metadata": {},
   "outputs": [
    {
     "data": {
      "text/plain": [
       "(98, 8)"
      ]
     },
     "execution_count": 3,
     "metadata": {},
     "output_type": "execute_result"
    }
   ],
   "source": [
    "# Checking the completeness of the Location's values\n",
    "df.shape"
   ]
  },
  {
   "cell_type": "code",
   "execution_count": 4,
   "id": "bb8149d2",
   "metadata": {},
   "outputs": [
    {
     "name": "stdout",
     "output_type": "stream",
     "text": [
      "<class 'pandas.core.frame.DataFrame'>\n",
      "RangeIndex: 98 entries, 0 to 97\n",
      "Data columns (total 8 columns):\n",
      " #   Column                Non-Null Count  Dtype  \n",
      "---  ------                --------------  -----  \n",
      " 0   Claim ID              98 non-null     object \n",
      " 1   Time to Close         98 non-null     int64  \n",
      " 2   Claim Amount          98 non-null     object \n",
      " 3   Amount Paid           98 non-null     float64\n",
      " 4   Location              98 non-null     object \n",
      " 5   Individuals on Claim  98 non-null     int64  \n",
      " 6   Linked Cases          98 non-null     bool   \n",
      " 7   Cause                 20 non-null     object \n",
      "dtypes: bool(1), float64(1), int64(2), object(4)\n",
      "memory usage: 5.6+ KB\n"
     ]
    }
   ],
   "source": [
    "# Checking for nulls\n",
    "df.info()"
   ]
  },
  {
   "cell_type": "code",
   "execution_count": 5,
   "id": "336ea1ef",
   "metadata": {},
   "outputs": [
    {
     "data": {
      "text/plain": [
       "98"
      ]
     },
     "execution_count": 5,
     "metadata": {},
     "output_type": "execute_result"
    }
   ],
   "source": [
    "# Checking the completeness of the Claim ID\n",
    "len(df['Claim ID'].unique())"
   ]
  },
  {
   "cell_type": "code",
   "execution_count": 6,
   "id": "8f68d622",
   "metadata": {},
   "outputs": [],
   "source": [
    "# Because Time to Close refers to days it tooks for the claim to be closed, then should not be negative days\n",
    "# Then, I ensure to remove negative values at Time to Close\n",
    "df = df[df['Time to Close'] > 0]"
   ]
  },
  {
   "cell_type": "code",
   "execution_count": 7,
   "id": "9431225c",
   "metadata": {},
   "outputs": [
    {
     "data": {
      "text/html": [
       "<div>\n",
       "<style scoped>\n",
       "    .dataframe tbody tr th:only-of-type {\n",
       "        vertical-align: middle;\n",
       "    }\n",
       "\n",
       "    .dataframe tbody tr th {\n",
       "        vertical-align: top;\n",
       "    }\n",
       "\n",
       "    .dataframe thead th {\n",
       "        text-align: right;\n",
       "    }\n",
       "</style>\n",
       "<table border=\"1\" class=\"dataframe\">\n",
       "  <thead>\n",
       "    <tr style=\"text-align: right;\">\n",
       "      <th></th>\n",
       "      <th>Claim ID</th>\n",
       "      <th>Time to Close</th>\n",
       "      <th>Claim Amount</th>\n",
       "      <th>Amount Paid</th>\n",
       "      <th>Location</th>\n",
       "      <th>Individuals on Claim</th>\n",
       "      <th>Linked Cases</th>\n",
       "      <th>Cause</th>\n",
       "    </tr>\n",
       "  </thead>\n",
       "  <tbody>\n",
       "    <tr>\n",
       "      <th>0</th>\n",
       "      <td>0000000-00.2010.0.00.0094</td>\n",
       "      <td>2082</td>\n",
       "      <td>50000</td>\n",
       "      <td>34297.47</td>\n",
       "      <td>RECIFE</td>\n",
       "      <td>2</td>\n",
       "      <td>False</td>\n",
       "      <td>NaN</td>\n",
       "    </tr>\n",
       "    <tr>\n",
       "      <th>1</th>\n",
       "      <td>0000000-00.2011.0.00.0086</td>\n",
       "      <td>3591</td>\n",
       "      <td>180000</td>\n",
       "      <td>56383.54</td>\n",
       "      <td>SAO LUIS</td>\n",
       "      <td>7</td>\n",
       "      <td>False</td>\n",
       "      <td>NaN</td>\n",
       "    </tr>\n",
       "    <tr>\n",
       "      <th>2</th>\n",
       "      <td>0000000-00.2012.0.00.0092</td>\n",
       "      <td>2997</td>\n",
       "      <td>70000</td>\n",
       "      <td>12366.76</td>\n",
       "      <td>SAO LUIS</td>\n",
       "      <td>3</td>\n",
       "      <td>False</td>\n",
       "      <td>vegetables</td>\n",
       "    </tr>\n",
       "    <tr>\n",
       "      <th>3</th>\n",
       "      <td>0000000-00.2013.0.00.0096</td>\n",
       "      <td>1143</td>\n",
       "      <td>95104</td>\n",
       "      <td>29217.16</td>\n",
       "      <td>FORTALEZA</td>\n",
       "      <td>4</td>\n",
       "      <td>False</td>\n",
       "      <td>NaN</td>\n",
       "    </tr>\n",
       "    <tr>\n",
       "      <th>4</th>\n",
       "      <td>0000000-00.2014.0.00.0097</td>\n",
       "      <td>117</td>\n",
       "      <td>29000</td>\n",
       "      <td>12610.50</td>\n",
       "      <td>FORTALEZA</td>\n",
       "      <td>1</td>\n",
       "      <td>False</td>\n",
       "      <td>meat</td>\n",
       "    </tr>\n",
       "  </tbody>\n",
       "</table>\n",
       "</div>"
      ],
      "text/plain": [
       "                    Claim ID  Time to Close  Claim Amount  Amount Paid  \\\n",
       "0  0000000-00.2010.0.00.0094           2082         50000     34297.47   \n",
       "1  0000000-00.2011.0.00.0086           3591        180000     56383.54   \n",
       "2  0000000-00.2012.0.00.0092           2997         70000     12366.76   \n",
       "3  0000000-00.2013.0.00.0096           1143         95104     29217.16   \n",
       "4  0000000-00.2014.0.00.0097            117         29000     12610.50   \n",
       "\n",
       "    Location  Individuals on Claim  Linked Cases       Cause  \n",
       "0     RECIFE                     2         False         NaN  \n",
       "1   SAO LUIS                     7         False         NaN  \n",
       "2   SAO LUIS                     3         False  vegetables  \n",
       "3  FORTALEZA                     4         False         NaN  \n",
       "4  FORTALEZA                     1         False        meat  "
      ]
     },
     "execution_count": 7,
     "metadata": {},
     "output_type": "execute_result"
    }
   ],
   "source": [
    "# Transforming Claim Amount Series to be numerical and type Int, from R$50,000.00 to 50000\n",
    "\n",
    "# First striping the first two characters from the left, next strip the comma character\n",
    "# then cast from string to numeric with astype and finally convert to integer also with astype\n",
    "\n",
    "# I have did it in one-line to save space and time to building new variables\n",
    "df['Claim Amount'] = df['Claim Amount'].str.lstrip('R$').str.replace(',','').astype('float').astype('int')\n",
    "df.head()"
   ]
  },
  {
   "cell_type": "code",
   "execution_count": 8,
   "id": "d4b60c4f",
   "metadata": {},
   "outputs": [
    {
     "data": {
      "text/plain": [
       "[]"
      ]
     },
     "execution_count": 8,
     "metadata": {},
     "output_type": "execute_result"
    }
   ],
   "source": [
    "# Checking for negative values at Individual on Claim Series\n",
    "\n",
    "[i for i in df['Claim Amount'] if i < 0]"
   ]
  },
  {
   "cell_type": "code",
   "execution_count": 9,
   "id": "5594d821",
   "metadata": {},
   "outputs": [
    {
     "data": {
      "text/plain": [
       "SAO LUIS     29\n",
       "RECIFE       25\n",
       "FORTALEZA    22\n",
       "NATAL        21\n",
       "Name: Location, dtype: int64"
      ]
     },
     "execution_count": 9,
     "metadata": {},
     "output_type": "execute_result"
    }
   ],
   "source": [
    "# Check consistency on Location Series\n",
    "df.Location.value_counts()"
   ]
  },
  {
   "cell_type": "code",
   "execution_count": 10,
   "id": "b0448ea6",
   "metadata": {},
   "outputs": [
    {
     "data": {
      "text/plain": [
       "[]"
      ]
     },
     "execution_count": 10,
     "metadata": {},
     "output_type": "execute_result"
    }
   ],
   "source": [
    "# Checking for negative values at Individual on Claim Series\n",
    "[i for i in df['Individuals on Claim'] if i < 0]"
   ]
  },
  {
   "cell_type": "code",
   "execution_count": 11,
   "id": "bf3fc1d7",
   "metadata": {},
   "outputs": [
    {
     "data": {
      "text/plain": [
       "False    88\n",
       "True      9\n",
       "Name: Linked Cases, dtype: int64"
      ]
     },
     "execution_count": 11,
     "metadata": {},
     "output_type": "execute_result"
    }
   ],
   "source": [
    "# Ensuring consistency of Linked Cases column\n",
    "df['Linked Cases'].value_counts()"
   ]
  },
  {
   "cell_type": "code",
   "execution_count": 12,
   "id": "ba29f669",
   "metadata": {},
   "outputs": [
    {
     "data": {
      "text/plain": [
       "meat          12\n",
       "vegetables     8\n",
       "Name: Cause, dtype: int64"
      ]
     },
     "execution_count": 12,
     "metadata": {},
     "output_type": "execute_result"
    }
   ],
   "source": [
    "df['Cause'].value_counts()"
   ]
  },
  {
   "cell_type": "code",
   "execution_count": 13,
   "id": "07049685",
   "metadata": {},
   "outputs": [],
   "source": [
    "# Ensuring consistency at Cause column\n",
    "df.Cause = df.Cause.fillna(value='unknown')"
   ]
  },
  {
   "cell_type": "code",
   "execution_count": 14,
   "id": "f4968542",
   "metadata": {},
   "outputs": [
    {
     "data": {
      "text/html": [
       "<div>\n",
       "<style scoped>\n",
       "    .dataframe tbody tr th:only-of-type {\n",
       "        vertical-align: middle;\n",
       "    }\n",
       "\n",
       "    .dataframe tbody tr th {\n",
       "        vertical-align: top;\n",
       "    }\n",
       "\n",
       "    .dataframe thead th {\n",
       "        text-align: right;\n",
       "    }\n",
       "</style>\n",
       "<table border=\"1\" class=\"dataframe\">\n",
       "  <thead>\n",
       "    <tr style=\"text-align: right;\">\n",
       "      <th></th>\n",
       "      <th>Claim ID</th>\n",
       "      <th>Time to Close</th>\n",
       "      <th>Claim Amount</th>\n",
       "      <th>Amount Paid</th>\n",
       "      <th>Location</th>\n",
       "      <th>Individuals on Claim</th>\n",
       "      <th>Linked Cases</th>\n",
       "      <th>Cause</th>\n",
       "    </tr>\n",
       "  </thead>\n",
       "  <tbody>\n",
       "    <tr>\n",
       "      <th>0</th>\n",
       "      <td>0000000-00.2010.0.00.0094</td>\n",
       "      <td>2082</td>\n",
       "      <td>50000</td>\n",
       "      <td>34297.47</td>\n",
       "      <td>RECIFE</td>\n",
       "      <td>2</td>\n",
       "      <td>False</td>\n",
       "      <td>unknown</td>\n",
       "    </tr>\n",
       "    <tr>\n",
       "      <th>1</th>\n",
       "      <td>0000000-00.2011.0.00.0086</td>\n",
       "      <td>3591</td>\n",
       "      <td>180000</td>\n",
       "      <td>56383.54</td>\n",
       "      <td>SAO LUIS</td>\n",
       "      <td>7</td>\n",
       "      <td>False</td>\n",
       "      <td>unknown</td>\n",
       "    </tr>\n",
       "    <tr>\n",
       "      <th>2</th>\n",
       "      <td>0000000-00.2012.0.00.0092</td>\n",
       "      <td>2997</td>\n",
       "      <td>70000</td>\n",
       "      <td>12366.76</td>\n",
       "      <td>SAO LUIS</td>\n",
       "      <td>3</td>\n",
       "      <td>False</td>\n",
       "      <td>vegetables</td>\n",
       "    </tr>\n",
       "    <tr>\n",
       "      <th>3</th>\n",
       "      <td>0000000-00.2013.0.00.0096</td>\n",
       "      <td>1143</td>\n",
       "      <td>95104</td>\n",
       "      <td>29217.16</td>\n",
       "      <td>FORTALEZA</td>\n",
       "      <td>4</td>\n",
       "      <td>False</td>\n",
       "      <td>unknown</td>\n",
       "    </tr>\n",
       "    <tr>\n",
       "      <th>4</th>\n",
       "      <td>0000000-00.2014.0.00.0097</td>\n",
       "      <td>117</td>\n",
       "      <td>29000</td>\n",
       "      <td>12610.50</td>\n",
       "      <td>FORTALEZA</td>\n",
       "      <td>1</td>\n",
       "      <td>False</td>\n",
       "      <td>meat</td>\n",
       "    </tr>\n",
       "  </tbody>\n",
       "</table>\n",
       "</div>"
      ],
      "text/plain": [
       "                    Claim ID  Time to Close  Claim Amount  Amount Paid  \\\n",
       "0  0000000-00.2010.0.00.0094           2082         50000     34297.47   \n",
       "1  0000000-00.2011.0.00.0086           3591        180000     56383.54   \n",
       "2  0000000-00.2012.0.00.0092           2997         70000     12366.76   \n",
       "3  0000000-00.2013.0.00.0096           1143         95104     29217.16   \n",
       "4  0000000-00.2014.0.00.0097            117         29000     12610.50   \n",
       "\n",
       "    Location  Individuals on Claim  Linked Cases       Cause  \n",
       "0     RECIFE                     2         False     unknown  \n",
       "1   SAO LUIS                     7         False     unknown  \n",
       "2   SAO LUIS                     3         False  vegetables  \n",
       "3  FORTALEZA                     4         False     unknown  \n",
       "4  FORTALEZA                     1         False        meat  "
      ]
     },
     "execution_count": 14,
     "metadata": {},
     "output_type": "execute_result"
    }
   ],
   "source": [
    "# Make sure changes were applied\n",
    "df.head()"
   ]
  },
  {
   "cell_type": "code",
   "execution_count": 15,
   "id": "50934e9b",
   "metadata": {},
   "outputs": [
    {
     "name": "stdout",
     "output_type": "stream",
     "text": [
      "<class 'pandas.core.frame.DataFrame'>\n",
      "Int64Index: 97 entries, 0 to 97\n",
      "Data columns (total 8 columns):\n",
      " #   Column                Non-Null Count  Dtype  \n",
      "---  ------                --------------  -----  \n",
      " 0   Claim ID              97 non-null     object \n",
      " 1   Time to Close         97 non-null     int64  \n",
      " 2   Claim Amount          97 non-null     int64  \n",
      " 3   Amount Paid           97 non-null     float64\n",
      " 4   Location              97 non-null     object \n",
      " 5   Individuals on Claim  97 non-null     int64  \n",
      " 6   Linked Cases          97 non-null     bool   \n",
      " 7   Cause                 97 non-null     object \n",
      "dtypes: bool(1), float64(1), int64(3), object(3)\n",
      "memory usage: 6.2+ KB\n"
     ]
    }
   ],
   "source": [
    "# Make sure changes were applied\n",
    "\n",
    "df.info()"
   ]
  },
  {
   "cell_type": "markdown",
   "id": "fa542fcb",
   "metadata": {},
   "source": [
    "## Data Discovering and Visualization"
   ]
  },
  {
   "cell_type": "markdown",
   "id": "a00b999e",
   "metadata": {},
   "source": [
    "### How does the number of claims differ across locations?"
   ]
  },
  {
   "cell_type": "code",
   "execution_count": 16,
   "id": "aee11f86",
   "metadata": {},
   "outputs": [
    {
     "data": {
      "text/plain": [
       "SAO_LUIS     29\n",
       "RECIFE       25\n",
       "FORTALEZA    22\n",
       "NATAL        21\n",
       "Name: Location, dtype: int64"
      ]
     },
     "execution_count": 16,
     "metadata": {},
     "output_type": "execute_result"
    }
   ],
   "source": [
    "# For a better understand of number of claims across locations is necessary to replace white space by underscore\n",
    "# and count claims per location\n",
    "\n",
    "df['Location'] = df['Location'].replace(' ','_', regex=True)\n",
    "df['Location'].value_counts()"
   ]
  },
  {
   "cell_type": "code",
   "execution_count": 17,
   "id": "37e32497",
   "metadata": {},
   "outputs": [
    {
     "data": {
      "image/png": "[encoded data removed]",
      "text/plain": [
       "<Figure size 504x360 with 1 Axes>"
      ]
     },
     "metadata": {
      "needs_background": "light"
     },
     "output_type": "display_data"
    }
   ],
   "source": [
    "# Using bar plot to represent the number of claims across locations\n",
    "\n",
    "# Setting size of plot\n",
    "f = plt.figure()\n",
    "f.set_figwidth(7)\n",
    "f.set_figheight(5)\n",
    "\n",
    "# Plotting barplot\n",
    "plt.bar(range(len(df['Location'].value_counts())), df['Location'].value_counts().values, align='center', color='tab:orange')\n",
    "\n",
    "# Showing ticks\n",
    "plt.xticks(range(len(df['Location'].value_counts())), df['Location'].value_counts().index.values, size='small')\n",
    "\n",
    "# Values inside the bars\n",
    "plt.text(x=2.9,y=10.5,s=df['Location'].value_counts().values[3])\n",
    "plt.text(x=-0.05,y=15,s=df['Location'].value_counts().values[0])\n",
    "plt.text(x=0.9,y=12.5,s=df['Location'].value_counts().values[1])\n",
    "plt.text(x=1.9,y=11,s=df['Location'].value_counts().values[2])\n",
    "\n",
    "# Setting tile and labels\n",
    "plt.title(\"Claims per Locations\", fontweight='bold')\n",
    "plt.xlabel('Locations')\n",
    "plt.ylabel('Qty. of Claims')\n",
    "\n",
    "# Showing plot\n",
    "plt.show()"
   ]
  },
  {
   "cell_type": "code",
   "execution_count": 18,
   "id": "86e8a1b1",
   "metadata": {},
   "outputs": [
    {
     "data": {
      "image/png": "[encoded data removed]",
      "text/plain": [
       "<Figure size 432x288 with 1 Axes>"
      ]
     },
     "metadata": {},
     "output_type": "display_data"
    }
   ],
   "source": [
    "# Using pie chart to remark the number of claims across the locations\n",
    "\n",
    "# Defining values and categories from categorical data\n",
    "sizes=df['Location'].value_counts().values\n",
    "labels=df['Location'].value_counts().index\n",
    "\n",
    "# Setting explode feature in pie-chart\n",
    "explode=(0.1,0,0,0)\n",
    "\n",
    "# Plotting pie-chart\n",
    "plt.pie(sizes, explode=explode, labels=labels, shadow=True, startangle=90)\n",
    "\n",
    "# Values inside the bars\n",
    "plt.text(x=0.35,y=0.5,s=df['Location'].value_counts().values[3])\n",
    "plt.text(x=-0.7,y=0.4,s=df['Location'].value_counts().values[0])\n",
    "plt.text(x=-0.3,y=-0.5,s=df['Location'].value_counts().values[1])\n",
    "plt.text(x=0.5,y=-0.3,s=df['Location'].value_counts().values[2])\n",
    "\n",
    "# Equal aspect ratio ensures that pie is drawn as a circle.\n",
    "plt.title(\"Claims per Locations\", fontweight='bold')\n",
    "plt.axis('equal')  \n",
    "\n",
    "# Showing plot\n",
    "plt.show()"
   ]
  },
  {
   "cell_type": "code",
   "execution_count": 19,
   "id": "5caf7576",
   "metadata": {},
   "outputs": [
    {
     "data": {
      "text/html": [
       "<div>\n",
       "<style scoped>\n",
       "    .dataframe tbody tr th:only-of-type {\n",
       "        vertical-align: middle;\n",
       "    }\n",
       "\n",
       "    .dataframe tbody tr th {\n",
       "        vertical-align: top;\n",
       "    }\n",
       "\n",
       "    .dataframe thead th {\n",
       "        text-align: right;\n",
       "    }\n",
       "</style>\n",
       "<table border=\"1\" class=\"dataframe\">\n",
       "  <thead>\n",
       "    <tr style=\"text-align: right;\">\n",
       "      <th></th>\n",
       "      <th>claims</th>\n",
       "      <th>%diff_from_lowest_claims</th>\n",
       "    </tr>\n",
       "  </thead>\n",
       "  <tbody>\n",
       "    <tr>\n",
       "      <th>SAO_LUIS</th>\n",
       "      <td>29</td>\n",
       "      <td>38.10</td>\n",
       "    </tr>\n",
       "    <tr>\n",
       "      <th>RECIFE</th>\n",
       "      <td>25</td>\n",
       "      <td>19.05</td>\n",
       "    </tr>\n",
       "    <tr>\n",
       "      <th>FORTALEZA</th>\n",
       "      <td>22</td>\n",
       "      <td>4.76</td>\n",
       "    </tr>\n",
       "    <tr>\n",
       "      <th>NATAL</th>\n",
       "      <td>21</td>\n",
       "      <td>0.00</td>\n",
       "    </tr>\n",
       "  </tbody>\n",
       "</table>\n",
       "</div>"
      ],
      "text/plain": [
       "           claims  %diff_from_lowest_claims\n",
       "SAO_LUIS       29                     38.10\n",
       "RECIFE         25                     19.05\n",
       "FORTALEZA      22                      4.76\n",
       "NATAL          21                      0.00"
      ]
     },
     "execution_count": 19,
     "metadata": {},
     "output_type": "execute_result"
    }
   ],
   "source": [
    "# To see how differ, in percentage, the number of Claims across Locations I calculated the difference \n",
    "# in percentage from the lowest to the highest number of claims and build a pre-summary DataFrame\n",
    "\n",
    "# Number of Claims across Locations\n",
    "claims_per_location=list(df['Location'].value_counts().values)\n",
    "\n",
    "# List of Locations\n",
    "locations = df['Location'].value_counts().index\n",
    "\n",
    "# % Diff from highest number of claims\n",
    "diff = [round(((i - min(claims_per_location))/min(claims_per_location))*100,2) for i in claims_per_location]\n",
    "\n",
    "# Cretaing DataFrame\n",
    "df_claims_across_locations = pd.DataFrame(index=locations, data={'claims':claims_per_location,\n",
    "                                                                 '%diff_from_lowest_claims':diff})\n",
    "df_claims_across_locations"
   ]
  },
  {
   "cell_type": "markdown",
   "id": "aeb5ae3f",
   "metadata": {},
   "source": [
    "The number of claims is higher in SAO LUIS, and the lowest number of claims is in NATAL. Specifically, SAO LUIS has 38% more claims than Natal"
   ]
  },
  {
   "cell_type": "markdown",
   "id": "f9be4578",
   "metadata": {},
   "source": [
    "## What is the distribution of time to close claims?"
   ]
  },
  {
   "cell_type": "code",
   "execution_count": 20,
   "id": "8a91b3e8",
   "metadata": {},
   "outputs": [
    {
     "data": {
      "image/png": "[encoded data removed]",
      "text/plain": [
       "<Figure size 360x216 with 1 Axes>"
      ]
     },
     "metadata": {
      "needs_background": "light"
     },
     "output_type": "display_data"
    }
   ],
   "source": [
    "# To see the Distribution a histogram is useful\n",
    "\n",
    "# FIRST VISUALIZATION (BAR-PLOT) TO DEMONSTRATE THE CHARACTERISTIC OF TIME TO CLOSE VARIABLE\n",
    "\n",
    "# Setting size of plot\n",
    "f = plt.figure()\n",
    "f.set_figwidth(5)\n",
    "f.set_figheight(3)\n",
    "\n",
    "# Freedman-Diaconis rule to find number of bins\n",
    "q1 = np.quantile(df['Time to Close'], 0.25)\n",
    "q3 = np.quantile(df['Time to Close'], 0.75)\n",
    "iqr = q3 - q1\n",
    "bin_width = (2 * iqr) / (len(df['Time to Close']) ** (1 / 3))\n",
    "bin_count = int(np.ceil((max(df['Time to Close']) - min(df['Time to Close'])) / bin_width))\n",
    "\n",
    "# Plotting histogram\n",
    "plt.hist(df['Time to Close'], bins=bin_count, range=(0,2800), color='tab:orange')\n",
    "\n",
    "# Adding trend line of the Median\n",
    "plt.axvline(x=np.quantile(df['Time to Close'],0.5), color= 'red', linestyle='--', label='Median')\n",
    "plt.text(300,10,np.quantile(df['Time to Close'],0.5), fontsize='medium', fontweight='book')\n",
    "\n",
    "# Adding trend line of the Mean\n",
    "plt.axvline(x=np.mean(df['Time to Close']), color= 'green', linestyle=':', label='Mean')\n",
    "plt.text(850,18,round(np.mean(df['Time to Close']),2), fontsize='medium', fontweight='book')\n",
    "\n",
    "# Adding trend line of the Mode\n",
    "plt.axvline(x=st.mode(df['Time to Close']), color= 'black', linestyle=':', label='Mode')\n",
    "plt.text(150,15,round(st.mode(df['Time to Close']),2), fontsize='medium', fontweight='book')\n",
    "\n",
    "# Adding Std Dev\n",
    "plt.text(1800,10,\"Std Dev = \" + str(round(np.std(df['Time to Close']),2)), fontsize='medium', fontweight='book')\n",
    "\n",
    "# Setting title and labels\n",
    "plt.title(\"Time to Close distribution\", fontweight='bold')\n",
    "plt.ylabel('Count')\n",
    "plt.legend()\n",
    "\n",
    "# Showing plot\n",
    "plt.show()"
   ]
  },
  {
   "cell_type": "code",
   "execution_count": 21,
   "id": "c08d6b14",
   "metadata": {},
   "outputs": [
    {
     "data": {
      "image/png": "[encoded data removed]",
      "text/plain": [
       "<Figure size 720x216 with 1 Axes>"
      ]
     },
     "metadata": {
      "needs_background": "light"
     },
     "output_type": "display_data"
    }
   ],
   "source": [
    "# Then a box-plot could add more information by finding the Intequantile Range of Time to Close claims\n",
    "\n",
    "# SECOND VISUALIZATION (BOX-PLOT) TO DEMONSTRATE THE CHARACTERISTIC OF TIME TO CLOSE VARIABLE\n",
    "\n",
    "# Setting size of plot\n",
    "f = plt.figure()\n",
    "f.set_figwidth(10)\n",
    "f.set_figheight(3)\n",
    "\n",
    "# Adding trend line of 25th percentile\n",
    "plt.axvline(x=np.quantile(df['Time to Close'],0.25), color= 'red', linestyle='--')\n",
    "plt.text(180,1.2,np.quantile(df['Time to Close'],0.25), fontsize='small')\n",
    "\n",
    "# Adding trend line of 75th percentile\n",
    "plt.axvline(x=np.quantile(df['Time to Close'],0.75), color= 'red', linestyle='--')\n",
    "plt.text(1150,1.2,np.quantile(df['Time to Close'],0.75), fontsize='small')\n",
    "\n",
    "# Plotting boxplot\n",
    "plt.boxplot(df['Time to Close'], sym='',vert=False)\n",
    "\n",
    "# Textbox for off outliers\n",
    "plt.text(1800,0.7,\"Outliers were removed\", alpha=0.5, fontstyle='italic')\n",
    "\n",
    "# Setting title and label\n",
    "plt.title('Time to Close')\n",
    "plt.xlabel('Range of Time to Close values')\n",
    "\n",
    "# Showing plot\n",
    "plt.show()\n",
    "\n"
   ]
  },
  {
   "cell_type": "markdown",
   "id": "9bea07dc",
   "metadata": {},
   "source": [
    "The distribution of Time to Close Claims is a \"Right Skewed\" also known as a positively skewed histogram, that can be verified by its Mean > Median > Mode. The Interquartile Range for the Time to Close a Claim across all four Locations is between 349 and 1143 days. However, it must be remembered that the highest number of Claims is at Sao Luis."
   ]
  },
  {
   "cell_type": "markdown",
   "id": "ad5147f1",
   "metadata": {},
   "source": [
    "## How does the average Time to Close Claims differ by Location?"
   ]
  },
  {
   "cell_type": "code",
   "execution_count": 22,
   "id": "40846057",
   "metadata": {},
   "outputs": [
    {
     "data": {
      "text/plain": [
       "Location\n",
       "SAO_LUIS     1063.620690\n",
       "RECIFE        860.680000\n",
       "FORTALEZA     775.500000\n",
       "NATAL         581.142857\n",
       "Name: Time to Close, dtype: float64"
      ]
     },
     "execution_count": 22,
     "metadata": {},
     "output_type": "execute_result"
    }
   ],
   "source": [
    "# Firstly, I obtain the average Time To Close for each Location\n",
    "\n",
    "# Grouping by Locations, but only Mean of Time to Close\n",
    "df_time_by_location = df.groupby(['Location']).mean()['Time to Close'].sort_values(ascending=False)\n",
    "df_time_by_location"
   ]
  },
  {
   "cell_type": "code",
   "execution_count": 23,
   "id": "ae5dc80b",
   "metadata": {},
   "outputs": [
    {
     "data": {
      "text/html": [
       "<div>\n",
       "<style scoped>\n",
       "    .dataframe tbody tr th:only-of-type {\n",
       "        vertical-align: middle;\n",
       "    }\n",
       "\n",
       "    .dataframe tbody tr th {\n",
       "        vertical-align: top;\n",
       "    }\n",
       "\n",
       "    .dataframe thead th {\n",
       "        text-align: right;\n",
       "    }\n",
       "</style>\n",
       "<table border=\"1\" class=\"dataframe\">\n",
       "  <thead>\n",
       "    <tr style=\"text-align: right;\">\n",
       "      <th></th>\n",
       "      <th>claims</th>\n",
       "      <th>%diff_from_lowest_claims</th>\n",
       "      <th>avg_time_to_close</th>\n",
       "      <th>%diff_from lowest_avg_time</th>\n",
       "    </tr>\n",
       "  </thead>\n",
       "  <tbody>\n",
       "    <tr>\n",
       "      <th>SAO_LUIS</th>\n",
       "      <td>29</td>\n",
       "      <td>38.10</td>\n",
       "      <td>1063.62</td>\n",
       "      <td>83.02</td>\n",
       "    </tr>\n",
       "    <tr>\n",
       "      <th>RECIFE</th>\n",
       "      <td>25</td>\n",
       "      <td>19.05</td>\n",
       "      <td>860.68</td>\n",
       "      <td>48.10</td>\n",
       "    </tr>\n",
       "    <tr>\n",
       "      <th>FORTALEZA</th>\n",
       "      <td>22</td>\n",
       "      <td>4.76</td>\n",
       "      <td>775.50</td>\n",
       "      <td>33.44</td>\n",
       "    </tr>\n",
       "    <tr>\n",
       "      <th>NATAL</th>\n",
       "      <td>21</td>\n",
       "      <td>0.00</td>\n",
       "      <td>581.14</td>\n",
       "      <td>0.00</td>\n",
       "    </tr>\n",
       "  </tbody>\n",
       "</table>\n",
       "</div>"
      ],
      "text/plain": [
       "           claims  %diff_from_lowest_claims  avg_time_to_close  \\\n",
       "SAO_LUIS       29                     38.10            1063.62   \n",
       "RECIFE         25                     19.05             860.68   \n",
       "FORTALEZA      22                      4.76             775.50   \n",
       "NATAL          21                      0.00             581.14   \n",
       "\n",
       "           %diff_from lowest_avg_time  \n",
       "SAO_LUIS                        83.02  \n",
       "RECIFE                          48.10  \n",
       "FORTALEZA                       33.44  \n",
       "NATAL                            0.00  "
      ]
     },
     "execution_count": 23,
     "metadata": {},
     "output_type": "execute_result"
    }
   ],
   "source": [
    "# Then based on the number of Claims across Locations, I get the average time per location and I compare \n",
    "# the data in a DataFrame\n",
    "\n",
    "# Number of Claims across Locations\n",
    "claims_per_location=list(df['Location'].value_counts().values)\n",
    "\n",
    "# List of Locations\n",
    "locations = df['Location'].value_counts().index\n",
    "\n",
    "# % Diff from highest number of claims\n",
    "diff_claims = [round(((i - min(claims_per_location))/min(claims_per_location))*100,2) for i in claims_per_location]\n",
    "\n",
    "# Avg Time to Close per Location\n",
    "avg_time_locations = list(round(df.groupby(['Location']).mean(),2)['Time to Close'].sort_values(ascending=False).values)\n",
    "\n",
    "# % Diff from highest avg Time to Close\n",
    "diff_avg_time = [round(((i - min(avg_time_locations))/min(avg_time_locations))*100,2) for i in avg_time_locations]\n",
    "\n",
    "# Cretaing DataFrame\n",
    "df_claims_avg_time_across_locations = pd.DataFrame(index=locations, data={'claims':claims_per_location,\n",
    "                                                                 '%diff_from_lowest_claims':diff_claims,\n",
    "                                                                 'avg_time_to_close':avg_time_locations,\n",
    "                                                                 '%diff_from lowest_avg_time':diff_avg_time})\n",
    "df_claims_avg_time_across_locations"
   ]
  },
  {
   "cell_type": "code",
   "execution_count": 24,
   "id": "c74139da",
   "metadata": {},
   "outputs": [
    {
     "data": {
      "image/png": "[encoded data removed]",
      "text/plain": [
       "<Figure size 504x360 with 1 Axes>"
      ]
     },
     "metadata": {
      "needs_background": "light"
     },
     "output_type": "display_data"
    }
   ],
   "source": [
    "# Using bar plot to inspect the average time to close across locations, to demonstrate the relationship \n",
    "# between two or more variables\n",
    "\n",
    "# Setting size of plot\n",
    "f = plt.figure()\n",
    "f.set_figwidth(7)\n",
    "f.set_figheight(5)\n",
    "\n",
    "# Plotting a barplot\n",
    "plt.bar(range(len(df_time_by_location.values)), df_time_by_location.values, align='center', color='tab:orange')\n",
    "\n",
    "# Showing ticks per Location\n",
    "plt.xticks(range(len(df_time_by_location.values)), df_time_by_location.index.values, size='small')\n",
    "\n",
    "# Values inside the bars\n",
    "plt.text(x=2.8,y=290.5,s=round(df_time_by_location.values[3],2))\n",
    "plt.text(x=-0.2,y=513,s=round(df_time_by_location.values[0],2))\n",
    "plt.text(x=0.8,y=430,s=round(df_time_by_location.values[1],2))\n",
    "plt.text(x=1.8,y=387.5,s=round(df_time_by_location.values[2],2))\n",
    "\n",
    "# Setting titles and labels\n",
    "plt.title(\"Average Time to Close per Location\", fontweight='bold')\n",
    "plt.xlabel('Locations')\n",
    "plt.ylabel('Average Time to Close')\n",
    "\n",
    "# Showing plot\n",
    "plt.show()"
   ]
  },
  {
   "cell_type": "markdown",
   "id": "91d5192e",
   "metadata": {},
   "source": [
    "The highest average Time to Close a Claim is at Sao Luis, and the lowest average Time to Close a Claim is at Natal. As occurs with the number of Claims, the highest at Sao Luis and the lowest at Natal."
   ]
  },
  {
   "cell_type": "code",
   "execution_count": 25,
   "id": "e621b3d1",
   "metadata": {},
   "outputs": [
    {
     "data": {
      "image/png": "[encoded data removed]",
      "text/plain": [
       "<Figure size 432x288 with 1 Axes>"
      ]
     },
     "metadata": {},
     "output_type": "display_data"
    }
   ],
   "source": [
    "# Pie chart to remark the mean of time to close per location\n",
    "\n",
    "sizes = df_time_by_location.values\n",
    "labels = df_time_by_location.index\n",
    "explode = (0.1,0,0,0)\n",
    "plt.pie(sizes, explode=explode, labels=labels, shadow=True, startangle=90)\n",
    "plt.text(x=0.25,y=0.55,s=round(df_time_by_location.values[3],2))\n",
    "plt.text(x=-0.7,y=0.3,s=round(df_time_by_location.values[0],2))\n",
    "plt.text(x=-0.3,y=-0.6,s=round(df_time_by_location.values[1],2))\n",
    "plt.text(x=0.4,y=-0.2,s=round(df_time_by_location.values[2],2))\n",
    "\n",
    "# Equal aspect ratio ensures that pie is drawn as a circle.\n",
    "plt.title(\"Average time to close per Location\", fontweight='bold')\n",
    "plt.axis('equal')  \n",
    "plt.show()"
   ]
  },
  {
   "cell_type": "markdown",
   "id": "a1509d18",
   "metadata": {},
   "source": [
    "**Inspecting Time to Close Distribution per Location**"
   ]
  },
  {
   "cell_type": "code",
   "execution_count": 26,
   "id": "58834b6e",
   "metadata": {},
   "outputs": [],
   "source": [
    "# To observe how to differ Average Time to Close across Locations in a individually way and in a single boxplot, \n",
    "# I created four lists of Time to Close to plotting four boxplots showing their distributions\n",
    "\n",
    "# I get the name of each Location\n",
    "locations = df['Location'].value_counts().index\n",
    "\n",
    "# Then I create four lists with their respective name to which data belongs\n",
    "for i in locations:\n",
    "    globals()['df_' + i] = list(df[df['Location'] == i]['Time to Close'])\n",
    " "
   ]
  },
  {
   "cell_type": "code",
   "execution_count": 27,
   "id": "c1401aba",
   "metadata": {},
   "outputs": [
    {
     "data": {
      "image/png": "[encoded data removed]",
      "text/plain": [
       "<Figure size 720x216 with 1 Axes>"
      ]
     },
     "metadata": {
      "needs_background": "light"
     },
     "output_type": "display_data"
    }
   ],
   "source": [
    "# Distribution of SAO LUIS's Time to Close using histogram\n",
    "\n",
    "# Adjusting plot size\n",
    "f = plt.figure()\n",
    "f.set_figwidth(10)\n",
    "f.set_figheight(3)\n",
    "\n",
    "# Freedman-Diaconis rule to find number of bins\n",
    "q1 = np.quantile(df_SAO_LUIS, 0.25)\n",
    "q3 = np.quantile(df_SAO_LUIS, 0.75)\n",
    "iqr = q3 - q1\n",
    "bin_width = (2 * iqr) / (len(df_SAO_LUIS) ** (1 / 3))\n",
    "bin_count = int(np.ceil((max(df_SAO_LUIS) - min(df_SAO_LUIS)) / bin_width))\n",
    "\n",
    "# Creating histogram\n",
    "plt.hist(df_SAO_LUIS, bins=bin_count, range=(0,5000), color='tab:orange')\n",
    "\n",
    "# Adding a trend line of the Median\n",
    "plt.axvline(x=np.quantile(df_SAO_LUIS,0.5), color= 'red', linestyle='--', label='Median')\n",
    "plt.text(650,8,np.quantile(df_SAO_LUIS,0.5), fontsize='medium')\n",
    "\n",
    "# Adding a trend line of the Mean\n",
    "plt.axvline(x=np.mean(df_SAO_LUIS), color= 'green', linestyle=':', label='Mean')\n",
    "plt.text(1100,8,round(np.mean(df_SAO_LUIS),2), fontsize='medium')\n",
    "\n",
    "# Adding trend line of the Mode\n",
    "plt.axvline(x=st.mode(df_SAO_LUIS), color= 'black', linestyle=':', label='Mode')\n",
    "plt.text(3300,8,round(st.mode(df_SAO_LUIS),2), fontsize='medium')\n",
    "\n",
    "# Adding Std Dev\n",
    "plt.text(2200,12,\"Std Dev = \" + str(round(np.std(df_SAO_LUIS),2)), fontsize='medium', fontweight='book')\n",
    "\n",
    "# Setting titles and labels\n",
    "plt.title(\"Time to Close Distribution in SAO LUIS\", fontweight='bold')\n",
    "plt.xlabel('Time to Close')\n",
    "plt.ylabel('Count')\n",
    "plt.legend()\n",
    "\n",
    "# Showing plot\n",
    "plt.show()"
   ]
  },
  {
   "cell_type": "code",
   "execution_count": 28,
   "id": "cd0957cf",
   "metadata": {},
   "outputs": [
    {
     "data": {
      "image/png": "[encoded data removed]",
      "text/plain": [
       "<Figure size 720x216 with 1 Axes>"
      ]
     },
     "metadata": {
      "needs_background": "light"
     },
     "output_type": "display_data"
    }
   ],
   "source": [
    "# Distribution of FORTALEZA's Time to Close using histogram\n",
    "\n",
    "# Adjusting plot size\n",
    "f = plt.figure()\n",
    "f.set_figwidth(10)\n",
    "f.set_figheight(3)\n",
    "\n",
    "# Freedman-Diaconis rule to find number of bins\n",
    "q1 = np.quantile(df_FORTALEZA, 0.25)\n",
    "q3 = np.quantile(df_FORTALEZA, 0.75)\n",
    "iqr = q3 - q1\n",
    "bin_width = (2 * iqr) / (len(df_FORTALEZA) ** (1 / 3))\n",
    "bin_count = int(np.ceil((max(df_FORTALEZA) - min(df_FORTALEZA)) / bin_width))\n",
    "\n",
    "# Creating histogram\n",
    "plt.hist(df_FORTALEZA, bins=bin_count, range=(0,3000), color='tab:orange')\n",
    "# Adding a trend line of the Median\n",
    "plt.axvline(x=np.quantile(df_FORTALEZA,0.5), color= 'red', linestyle='--', label='Median')\n",
    "plt.text(450,7,np.quantile(df_FORTALEZA,0.5), fontsize='medium')\n",
    "# Adding a trend line of the Mean\n",
    "plt.axvline(x=np.mean(df_FORTALEZA), color= 'green', linestyle=':', label='Mean')\n",
    "plt.text(790,7,round(np.mean(df_FORTALEZA),2), fontsize='medium')\n",
    "# Adding trend line of the Mode\n",
    "plt.axvline(x=st.mode(df_FORTALEZA), color= 'black', linestyle=':', label='Mode')\n",
    "plt.text(1150,7,round(st.mode(df_FORTALEZA),2), fontsize='medium')\n",
    "# Setting titles and labels\n",
    "plt.title(\"Time to Close Distribution in FORTALEZA\", fontweight='bold')\n",
    "plt.xlabel('Time to Close')\n",
    "plt.ylabel('Count')\n",
    "plt.legend()\n",
    "# Showing plot\n",
    "plt.show()"
   ]
  },
  {
   "cell_type": "code",
   "execution_count": 29,
   "id": "8746cbbe",
   "metadata": {},
   "outputs": [
    {
     "data": {
      "image/png": "[encoded data removed]",
      "text/plain": [
       "<Figure size 720x216 with 1 Axes>"
      ]
     },
     "metadata": {
      "needs_background": "light"
     },
     "output_type": "display_data"
    }
   ],
   "source": [
    "# Distribution of RECIFE's Time to Close using histogram\n",
    "\n",
    "# Adjusting plot size\n",
    "f = plt.figure()\n",
    "f.set_figwidth(10)\n",
    "f.set_figheight(3)\n",
    "\n",
    "# Freedman-Diaconis rule to find number of bins\n",
    "q1 = np.quantile(df_RECIFE, 0.25)\n",
    "q3 = np.quantile(df_RECIFE, 0.75)\n",
    "iqr = q3 - q1\n",
    "bin_width = (2 * iqr) / (len(df_RECIFE) ** (1 / 3))\n",
    "bin_count = int(np.ceil((max(df_RECIFE) - min(df_RECIFE)) / bin_width))\n",
    "\n",
    "# Creating histogram\n",
    "plt.hist(df_RECIFE, bins=bin_count, range=(0,2500), color='tab:orange')\n",
    "\n",
    "# Adding a trend line of the Median\n",
    "plt.axvline(x=np.quantile(df_RECIFE,0.5), color= 'red', linestyle='--', label='Median')\n",
    "plt.text(900,4,np.quantile(df_RECIFE,0.5), fontsize='medium')\n",
    "\n",
    "# Adding a trend line of the Mean\n",
    "plt.axvline(x=np.mean(df_RECIFE), color= 'green', linestyle=':', label='Mean')\n",
    "plt.text(670,4,round(np.mean(df_RECIFE),2), fontsize='medium')\n",
    "\n",
    "# Adding trend line of the Mode\n",
    "plt.axvline(x=st.mode(df_RECIFE), color= 'black', linestyle=':', label='Mode')\n",
    "plt.text(1950,4,round(st.mode(df_RECIFE),2), fontsize='medium')\n",
    "\n",
    "# Setting titles and labels\n",
    "plt.title(\"Time to Close Distribution in RECIFE\", fontweight='bold')\n",
    "plt.xlabel('Time to Close')\n",
    "plt.ylabel('Count')\n",
    "plt.legend()\n",
    "\n",
    "# Showing plot\n",
    "plt.show()"
   ]
  },
  {
   "cell_type": "code",
   "execution_count": 30,
   "id": "635fc58d",
   "metadata": {},
   "outputs": [
    {
     "data": {
      "image/png": "[encoded data removed]",
      "text/plain": [
       "<Figure size 720x216 with 1 Axes>"
      ]
     },
     "metadata": {
      "needs_background": "light"
     },
     "output_type": "display_data"
    }
   ],
   "source": [
    "# Distribution of NATAL's Time to Close using histogram\n",
    "\n",
    "# Adjusting plot size\n",
    "f = plt.figure()\n",
    "f.set_figwidth(10)\n",
    "f.set_figheight(3)\n",
    "\n",
    "# Freedman-Diaconis rule to find number of bins\n",
    "q1 = np.quantile(df_NATAL, 0.25)\n",
    "q3 = np.quantile(df_NATAL, 0.75)\n",
    "iqr = q3 - q1\n",
    "bin_width = (2 * iqr) / (len(df_NATAL) ** (1 / 3))\n",
    "bin_count = int(np.ceil((max(df_NATAL) - min(df_NATAL)) / bin_width))\n",
    "\n",
    "# Creating histogram\n",
    "plt.hist(df_NATAL, bins=bin_count, range=(0,2700), color='tab:orange')\n",
    "\n",
    "# Adding a trend line of the Median\n",
    "plt.axvline(x=np.quantile(df_NATAL,0.5), color= 'red', linestyle='--', label='Median')\n",
    "plt.text(500,5,np.quantile(df_NATAL,0.5), fontsize='medium')\n",
    "\n",
    "# Adding a trend line of the Mean\n",
    "plt.axvline(x=np.mean(df_NATAL), color= 'green', linestyle=':', label='Mean')\n",
    "plt.text(600,8,round(np.mean(df_NATAL),2), fontsize='medium')\n",
    "\n",
    "# Adding trend line of the Mode\n",
    "plt.axvline(x=st.mode(df_NATAL), color= 'black', linestyle=':', label='Mode')\n",
    "plt.text(250,5,round(st.mode(df_NATAL),2), fontsize='medium')\n",
    "\n",
    "# Setting titles and labels\n",
    "plt.title(\"Time to Close Distribution in NATAL\", fontweight='bold')\n",
    "plt.xlabel('Time to Close')\n",
    "plt.ylabel('Count')\n",
    "plt.legend()\n",
    "\n",
    "# Showing plot\n",
    "plt.show()"
   ]
  },
  {
   "cell_type": "code",
   "execution_count": 31,
   "id": "09c15f15",
   "metadata": {},
   "outputs": [
    {
     "data": {
      "image/png": "[encoded data removed]",
      "text/plain": [
       "<Figure size 720x216 with 1 Axes>"
      ]
     },
     "metadata": {
      "needs_background": "light"
     },
     "output_type": "display_data"
    }
   ],
   "source": [
    "# Boxplot of the Time to Close per Location, I worked with the four lists of Time to Close created previously\n",
    "\n",
    "# FIRST VISUALIZATION (BOX-PLOT) TO DEMONSTRATE THE RELATIONSHIP BETWEEN TIME TO CLOSE PER LOCATION VARIABLES\n",
    "\n",
    "# To show number of claims across locations in the bottom of boxplot\n",
    "num_claims_per_location = list(df['Location'].value_counts().values)\n",
    "\n",
    "# Location's name to show trick labels in boxplot\n",
    "locations = df['Location'].value_counts().index\n",
    "\n",
    "fig = plt.figure(figsize =(10, 3))\n",
    " \n",
    "# Creating axes instance\n",
    "ax = fig.add_axes([0, 0, 1, 1])\n",
    "data = [df_SAO_LUIS, df_FORTALEZA, df_RECIFE, df_NATAL] \n",
    "\n",
    "# Creating plot\n",
    "bp = ax.boxplot(data, showmeans=True)\n",
    "ax.axhline(y=500, color= 'black', linestyle=':')\n",
    "ax.set_xticklabels(locations)\n",
    "ax.set_title('Distribution of Time to Close per Location')\n",
    "ax.set_ylabel('Time To Close in days')\n",
    "ax.text(.1,-800, \"Claims per Location: \")\n",
    "for i,j in enumerate(num_claims_per_location,1):\n",
    "    ax.text(i, -800, j)\n",
    "    \n",
    "# showing plot\n",
    "plt.show()"
   ]
  },
  {
   "cell_type": "code",
   "execution_count": 32,
   "id": "5e19d516",
   "metadata": {},
   "outputs": [],
   "source": [
    "# After finding graphical outliers I decided to obtain a box plot without outliers to compare the Average Time \n",
    "# to Close across four Locations\n",
    "# To do this, I removed outliers only at Fortaleza, Recife and Natal, which show outliers in the previous boxplot\n",
    "\n",
    "# RECIFE\n",
    "q1_RECIFE = np.quantile(df_RECIFE, 0.25)\n",
    "q3_RECIFE = np.quantile(df_RECIFE, 0.75)\n",
    "iqr_RECIFE = q3_RECIFE - q1_RECIFE\n",
    "df_RECIFE_no_outliers = [i for i in df_RECIFE if i < (q3_RECIFE + 1.5*iqr_RECIFE)]\n",
    "\n",
    "# FORTALEZA\n",
    "q1_FORTALEZA = np.quantile(df_FORTALEZA, 0.25)\n",
    "q3_FORTALEZA = np.quantile(df_FORTALEZA, 0.75)\n",
    "iqr_FORTALEZA = q3_FORTALEZA - q1_FORTALEZA\n",
    "df_FORTALEZA_no_outliers = [i for i in df_FORTALEZA if i < (q3_FORTALEZA + 1.5*iqr_FORTALEZA)]\n",
    "\n",
    "# NATAL\n",
    "q1_NATAL = np.quantile(df_NATAL, 0.25)\n",
    "q3_NATAL = np.quantile(df_NATAL, 0.75)\n",
    "iqr_NATAL = q3_NATAL - q1_NATAL\n",
    "df_NATAL_no_outliers = [i for i in df_NATAL if i < (q3_NATAL + 1.5*iqr_NATAL)]"
   ]
  },
  {
   "cell_type": "code",
   "execution_count": 33,
   "id": "41102593",
   "metadata": {},
   "outputs": [
    {
     "data": {
      "image/png": "[encoded data removed]",
      "text/plain": [
       "<Figure size 720x216 with 1 Axes>"
      ]
     },
     "metadata": {
      "needs_background": "light"
     },
     "output_type": "display_data"
    }
   ],
   "source": [
    "# Boxplot of the Time to Close per Location without outliers\n",
    "\n",
    "# Location's name to show trick labels in boxplot\n",
    "locations = df['Location'].value_counts().index\n",
    "\n",
    "# Number of Claims per Location without outliers\n",
    "num_claims_per_location_no_outliers = [len(df_SAO_LUIS),len(df_RECIFE_no_outliers),len(df_FORTALEZA_no_outliers),len(df_NATAL_no_outliers)]\n",
    "\n",
    "fig = plt.figure(figsize =(10, 3))\n",
    " \n",
    "# Creating axes instance\n",
    "ax = fig.add_axes([0, 0, 1, 1])\n",
    "data = [df_SAO_LUIS, df_FORTALEZA_no_outliers, df_RECIFE_no_outliers, df_NATAL_no_outliers] \n",
    "\n",
    "# Creating plot\n",
    "bp = ax.boxplot(data, showmeans=True, showfliers = False)\n",
    "ax.axhline(y=500, color= 'black', linestyle=':')\n",
    "ax.set_xticklabels(locations)\n",
    "ax.set_title('Distribution of Time to Close per Location')\n",
    "ax.set_ylabel('Time To Close in days')\n",
    "\n",
    "# Text of the Removing outliers\n",
    "plt.text(2.5,2500,\"*Outliers were removed\", alpha=0.5, fontstyle='italic')\n",
    "\n",
    "ax.text(.1,-800, \"Claims per Location: \")\n",
    "for i,j in enumerate(num_claims_per_location_no_outliers,1):\n",
    "    ax.text(i, -800, j)\n",
    "    \n",
    "# showing plot\n",
    "plt.show()"
   ]
  },
  {
   "cell_type": "markdown",
   "id": "f024e351",
   "metadata": {},
   "source": [
    "Even though the highest average of Time to Close a Claim is at Sao Luis, the averages of Time to Close (green triangles) for Fortaleza and Recife are affected by outliers, forcing them to augment and get close to the average Time to Close of Sao Luis."
   ]
  },
  {
   "cell_type": "code",
   "execution_count": 34,
   "id": "97b327c9",
   "metadata": {},
   "outputs": [
    {
     "data": {
      "text/html": [
       "<div>\n",
       "<style scoped>\n",
       "    .dataframe tbody tr th:only-of-type {\n",
       "        vertical-align: middle;\n",
       "    }\n",
       "\n",
       "    .dataframe tbody tr th {\n",
       "        vertical-align: top;\n",
       "    }\n",
       "\n",
       "    .dataframe thead th {\n",
       "        text-align: right;\n",
       "    }\n",
       "</style>\n",
       "<table border=\"1\" class=\"dataframe\">\n",
       "  <thead>\n",
       "    <tr style=\"text-align: right;\">\n",
       "      <th></th>\n",
       "      <th>claims</th>\n",
       "      <th>average_time</th>\n",
       "      <th>median_time</th>\n",
       "      <th>std_dev_time</th>\n",
       "      <th>mode_time</th>\n",
       "    </tr>\n",
       "  </thead>\n",
       "  <tbody>\n",
       "    <tr>\n",
       "      <th>SAO_LUIS</th>\n",
       "      <td>29</td>\n",
       "      <td>1063.62</td>\n",
       "      <td>1051.0</td>\n",
       "      <td>862.78</td>\n",
       "      <td>3591</td>\n",
       "    </tr>\n",
       "    <tr>\n",
       "      <th>RECIFE</th>\n",
       "      <td>25</td>\n",
       "      <td>860.68</td>\n",
       "      <td>875.0</td>\n",
       "      <td>626.95</td>\n",
       "      <td>1143</td>\n",
       "    </tr>\n",
       "    <tr>\n",
       "      <th>FORTALEZA</th>\n",
       "      <td>22</td>\n",
       "      <td>775.50</td>\n",
       "      <td>611.0</td>\n",
       "      <td>577.32</td>\n",
       "      <td>1573</td>\n",
       "    </tr>\n",
       "    <tr>\n",
       "      <th>NATAL</th>\n",
       "      <td>21</td>\n",
       "      <td>581.14</td>\n",
       "      <td>477.0</td>\n",
       "      <td>495.29</td>\n",
       "      <td>378</td>\n",
       "    </tr>\n",
       "  </tbody>\n",
       "</table>\n",
       "</div>"
      ],
      "text/plain": [
       "           claims  average_time  median_time  std_dev_time  mode_time\n",
       "SAO_LUIS       29       1063.62       1051.0        862.78       3591\n",
       "RECIFE         25        860.68        875.0        626.95       1143\n",
       "FORTALEZA      22        775.50        611.0        577.32       1573\n",
       "NATAL          21        581.14        477.0        495.29        378"
      ]
     },
     "execution_count": 34,
     "metadata": {},
     "output_type": "execute_result"
    }
   ],
   "source": [
    "# Creating a DF summary about Time to Close statistics across Locations incluiding outliers\n",
    "\n",
    "# Mean Time to Close across Locations\n",
    "mean_time = list(round(df.groupby(['Location']).mean(),2)['Time to Close'].sort_values(ascending=False).values)\n",
    "\n",
    "# Number of Claims across Locations\n",
    "claims_per_location=list(df['Location'].value_counts().values)\n",
    "\n",
    "# List of Locations\n",
    "locations = df['Location'].value_counts().index\n",
    "\n",
    "# Median Time to Close across Locations\n",
    "median_time = list(round(df.groupby(['Location']).median(),2)['Time to Close'].sort_values(ascending=False).values)\n",
    "\n",
    "# Std Deviation Time to Close across Locations\n",
    "std_dev_time = list(round(df.groupby(['Location']).std(),2)['Time to Close'].sort_values(ascending=False).values)\n",
    "\n",
    "# Mode Time to Close across Locations\n",
    "mode_time = [st.mode(i) for i in data]\n",
    "\n",
    "# Cretaing DataFrame\n",
    "df_summary = pd.DataFrame(index=locations, data={'claims':claims_per_location,'average_time':mean_time, \n",
    "                                                 'median_time':median_time, 'std_dev_time':std_dev_time,\n",
    "                                                'mode_time':mode_time})\n",
    "df_summary"
   ]
  },
  {
   "cell_type": "code",
   "execution_count": 35,
   "id": "e9615ad1",
   "metadata": {},
   "outputs": [
    {
     "data": {
      "text/html": [
       "<div>\n",
       "<style scoped>\n",
       "    .dataframe tbody tr th:only-of-type {\n",
       "        vertical-align: middle;\n",
       "    }\n",
       "\n",
       "    .dataframe tbody tr th {\n",
       "        vertical-align: top;\n",
       "    }\n",
       "\n",
       "    .dataframe thead th {\n",
       "        text-align: right;\n",
       "    }\n",
       "</style>\n",
       "<table border=\"1\" class=\"dataframe\">\n",
       "  <thead>\n",
       "    <tr style=\"text-align: right;\">\n",
       "      <th></th>\n",
       "      <th>claims</th>\n",
       "      <th>average_time</th>\n",
       "      <th>median_time</th>\n",
       "      <th>std_dev_time</th>\n",
       "      <th>mode_time</th>\n",
       "    </tr>\n",
       "  </thead>\n",
       "  <tbody>\n",
       "    <tr>\n",
       "      <th>SAO_LUIS</th>\n",
       "      <td>29</td>\n",
       "      <td>1063.620690</td>\n",
       "      <td>1051.0</td>\n",
       "      <td>847.772921</td>\n",
       "      <td>3591</td>\n",
       "    </tr>\n",
       "    <tr>\n",
       "      <th>RECIFE</th>\n",
       "      <td>19</td>\n",
       "      <td>565.842105</td>\n",
       "      <td>578.0</td>\n",
       "      <td>307.352577</td>\n",
       "      <td>1143</td>\n",
       "    </tr>\n",
       "    <tr>\n",
       "      <th>FORTALEZA</th>\n",
       "      <td>22</td>\n",
       "      <td>698.863636</td>\n",
       "      <td>722.0</td>\n",
       "      <td>381.102503</td>\n",
       "      <td>1573</td>\n",
       "    </tr>\n",
       "    <tr>\n",
       "      <th>NATAL</th>\n",
       "      <td>19</td>\n",
       "      <td>455.736842</td>\n",
       "      <td>415.0</td>\n",
       "      <td>279.022701</td>\n",
       "      <td>378</td>\n",
       "    </tr>\n",
       "  </tbody>\n",
       "</table>\n",
       "</div>"
      ],
      "text/plain": [
       "           claims  average_time  median_time  std_dev_time  mode_time\n",
       "SAO_LUIS       29   1063.620690       1051.0    847.772921       3591\n",
       "RECIFE         19    565.842105        578.0    307.352577       1143\n",
       "FORTALEZA      22    698.863636        722.0    381.102503       1573\n",
       "NATAL          19    455.736842        415.0    279.022701        378"
      ]
     },
     "execution_count": 35,
     "metadata": {},
     "output_type": "execute_result"
    }
   ],
   "source": [
    "# Creating a DF summary about Time to Close statistics across Locations without outliers\n",
    "\n",
    "# Mean Time to Close across Locations\n",
    "mean_time = [np.mean(df_SAO_LUIS),np.mean(df_FORTALEZA_no_outliers), \n",
    "                      np.mean(df_RECIFE_no_outliers), np.mean(df_NATAL_no_outliers)]\n",
    "\n",
    "# Number of Claims across Locations\n",
    "claims_per_location= [len(df_SAO_LUIS),len(df_FORTALEZA_no_outliers), \n",
    "                      len(df_RECIFE_no_outliers), len(df_NATAL_no_outliers)]\n",
    "\n",
    "# List of Locations\n",
    "locations = df['Location'].value_counts().index\n",
    "\n",
    "# Median Time to Close across Locations\n",
    "median_time = [np.median(df_SAO_LUIS),np.median(df_FORTALEZA_no_outliers), \n",
    "                      np.median(df_RECIFE_no_outliers), np.median(df_NATAL_no_outliers)]\n",
    "\n",
    "# Std Deviation Time to Close across Locations\n",
    "std_dev_time = [np.std(df_SAO_LUIS),np.std(df_FORTALEZA_no_outliers), \n",
    "                      np.std(df_RECIFE_no_outliers), np.std(df_NATAL_no_outliers)]\n",
    "\n",
    "# Mode Time to Close across Locations\n",
    "mode_time = [st.mode(df_SAO_LUIS),st.mode(df_FORTALEZA_no_outliers), \n",
    "                      st.mode(df_RECIFE_no_outliers), st.mode(df_NATAL_no_outliers)]\n",
    "\n",
    "# Cretaing DataFrame\n",
    "df_summary_no_outliers = pd.DataFrame(index=locations, data={'claims':claims_per_location,'average_time':mean_time, \n",
    "                                                 'median_time':median_time, 'std_dev_time':std_dev_time,\n",
    "                                                'mode_time':mode_time})\n",
    "df_summary_no_outliers"
   ]
  },
  {
   "cell_type": "markdown",
   "id": "eeede7cc",
   "metadata": {},
   "source": [
    "As we observe, after removing outliers the averages of Time to Close in Recife, Fortaleza and Natal get even lower than the average of Time to Close in Sao Luis. Thus, the most appropiate comparison would be without outliers"
   ]
  },
  {
   "cell_type": "code",
   "execution_count": 36,
   "id": "80c5d20f",
   "metadata": {},
   "outputs": [
    {
     "data": {
      "text/plain": [
       "((94, 8), (97, 8))"
      ]
     },
     "execution_count": 36,
     "metadata": {},
     "output_type": "execute_result"
    }
   ],
   "source": [
    "# Removing outliers in Time to Close at Recife, fortaleza and Natal\n",
    "\n",
    "df_no_outliers = df.drop(df[(df['Location'] == 'RECIFE') & (df['Time to Close'] > (q3_RECIFE + 1.5*iqr_RECIFE))].index)\n",
    "df_no_outliers.shape, df.shape"
   ]
  },
  {
   "cell_type": "code",
   "execution_count": 37,
   "id": "8009187e",
   "metadata": {},
   "outputs": [
    {
     "data": {
      "text/plain": [
       "((91, 8), (97, 8))"
      ]
     },
     "execution_count": 37,
     "metadata": {},
     "output_type": "execute_result"
    }
   ],
   "source": [
    "df_no_outliers = df_no_outliers.drop(df_no_outliers[(df_no_outliers['Location'] == 'FORTALEZA') & (df_no_outliers['Time to Close'] > (q3_FORTALEZA + 1.5*iqr_FORTALEZA))].index)\n",
    "df_no_outliers.shape, df.shape"
   ]
  },
  {
   "cell_type": "code",
   "execution_count": 38,
   "id": "4748c907",
   "metadata": {},
   "outputs": [
    {
     "data": {
      "text/plain": [
       "((89, 8), (97, 8))"
      ]
     },
     "execution_count": 38,
     "metadata": {},
     "output_type": "execute_result"
    }
   ],
   "source": [
    "df_no_outliers = df_no_outliers.drop(df_no_outliers[(df_no_outliers['Location'] == 'NATAL') & (df_no_outliers['Time to Close'] > (q3_NATAL + 1.5*iqr_NATAL))].index)\n",
    "df_no_outliers.shape, df.shape"
   ]
  },
  {
   "cell_type": "code",
   "execution_count": 39,
   "id": "e67187d0",
   "metadata": {},
   "outputs": [
    {
     "data": {
      "text/html": [
       "<div>\n",
       "<style scoped>\n",
       "    .dataframe tbody tr th:only-of-type {\n",
       "        vertical-align: middle;\n",
       "    }\n",
       "\n",
       "    .dataframe tbody tr th {\n",
       "        vertical-align: top;\n",
       "    }\n",
       "\n",
       "    .dataframe thead th {\n",
       "        text-align: right;\n",
       "    }\n",
       "</style>\n",
       "<table border=\"1\" class=\"dataframe\">\n",
       "  <thead>\n",
       "    <tr style=\"text-align: right;\">\n",
       "      <th></th>\n",
       "      <th>claims</th>\n",
       "      <th>%diff_from_lowest_claims</th>\n",
       "      <th>avg_time_to_close</th>\n",
       "      <th>%diff_from lowest_avg_time</th>\n",
       "    </tr>\n",
       "  </thead>\n",
       "  <tbody>\n",
       "    <tr>\n",
       "      <th>SAO_LUIS</th>\n",
       "      <td>29</td>\n",
       "      <td>38.10</td>\n",
       "      <td>1063.62</td>\n",
       "      <td>83.02</td>\n",
       "    </tr>\n",
       "    <tr>\n",
       "      <th>RECIFE</th>\n",
       "      <td>25</td>\n",
       "      <td>19.05</td>\n",
       "      <td>860.68</td>\n",
       "      <td>48.10</td>\n",
       "    </tr>\n",
       "    <tr>\n",
       "      <th>FORTALEZA</th>\n",
       "      <td>22</td>\n",
       "      <td>4.76</td>\n",
       "      <td>775.50</td>\n",
       "      <td>33.44</td>\n",
       "    </tr>\n",
       "    <tr>\n",
       "      <th>NATAL</th>\n",
       "      <td>21</td>\n",
       "      <td>0.00</td>\n",
       "      <td>581.14</td>\n",
       "      <td>0.00</td>\n",
       "    </tr>\n",
       "  </tbody>\n",
       "</table>\n",
       "</div>"
      ],
      "text/plain": [
       "           claims  %diff_from_lowest_claims  avg_time_to_close  \\\n",
       "SAO_LUIS       29                     38.10            1063.62   \n",
       "RECIFE         25                     19.05             860.68   \n",
       "FORTALEZA      22                      4.76             775.50   \n",
       "NATAL          21                      0.00             581.14   \n",
       "\n",
       "           %diff_from lowest_avg_time  \n",
       "SAO_LUIS                        83.02  \n",
       "RECIFE                          48.10  \n",
       "FORTALEZA                       33.44  \n",
       "NATAL                            0.00  "
      ]
     },
     "execution_count": 39,
     "metadata": {},
     "output_type": "execute_result"
    }
   ],
   "source": [
    "# Remembering the Claims and Average Time across Locations calculated before as a Summary, \n",
    "# when outliers are included\n",
    "\n",
    "df_claims_avg_time_across_locations"
   ]
  },
  {
   "cell_type": "code",
   "execution_count": 40,
   "id": "f7542e9d",
   "metadata": {},
   "outputs": [],
   "source": [
    "# Now I obtain the same Summary but now without outliers\n",
    "\n",
    "# Number of Claims across Locations\n",
    "claims_per_location_no_outliers=list(df_no_outliers['Location'].value_counts().values)\n",
    "\n",
    "# List of Locations\n",
    "locations_no_outliers = df_no_outliers['Location'].value_counts().index\n",
    "\n",
    "# % Diff from highest number of claims\n",
    "diff_claims_no_outliers = [round(((i - min(claims_per_location_no_outliers))/min(claims_per_location_no_outliers))*100,2) for i in claims_per_location_no_outliers]\n",
    "\n",
    "# Avg Time to Close per Location\n",
    "avg_time_locations_no_outliers = list(round(df_no_outliers.groupby(['Location']).mean(),2)['Time to Close'].sort_values(ascending=False).values)\n",
    "\n",
    "# % Diff from highest avg Time to Close\n",
    "diff_avg_time_no_outliers = [round(((i - min(avg_time_locations_no_outliers))/min(avg_time_locations_no_outliers))*100,2) for i in avg_time_locations_no_outliers]\n",
    "\n",
    "# Cretaing DataFrame\n",
    "df_claims_avg_time_across_locations_no_outliers = pd.DataFrame(index=locations_no_outliers, data={'claims':claims_per_location_no_outliers,\n",
    "                                                                 '%diff_from_lowest_claims':diff_claims_no_outliers,\n",
    "                                                                 'avg_time_to_close':avg_time_locations_no_outliers,\n",
    "                                                                 '%diff_from lowest_avg_time':diff_avg_time_no_outliers})"
   ]
  },
  {
   "cell_type": "code",
   "execution_count": 41,
   "id": "cd520164",
   "metadata": {},
   "outputs": [
    {
     "data": {
      "text/html": [
       "<div>\n",
       "<style scoped>\n",
       "    .dataframe tbody tr th:only-of-type {\n",
       "        vertical-align: middle;\n",
       "    }\n",
       "\n",
       "    .dataframe tbody tr th {\n",
       "        vertical-align: top;\n",
       "    }\n",
       "\n",
       "    .dataframe thead th {\n",
       "        text-align: right;\n",
       "    }\n",
       "</style>\n",
       "<table border=\"1\" class=\"dataframe\">\n",
       "  <thead>\n",
       "    <tr style=\"text-align: right;\">\n",
       "      <th></th>\n",
       "      <th>claims</th>\n",
       "      <th>%diff_from_lowest_claims</th>\n",
       "      <th>avg_time_to_close</th>\n",
       "      <th>%diff_from lowest_avg_time</th>\n",
       "    </tr>\n",
       "  </thead>\n",
       "  <tbody>\n",
       "    <tr>\n",
       "      <th>SAO_LUIS</th>\n",
       "      <td>29</td>\n",
       "      <td>52.63</td>\n",
       "      <td>1063.62</td>\n",
       "      <td>133.38</td>\n",
       "    </tr>\n",
       "    <tr>\n",
       "      <th>RECIFE</th>\n",
       "      <td>22</td>\n",
       "      <td>15.79</td>\n",
       "      <td>698.86</td>\n",
       "      <td>53.35</td>\n",
       "    </tr>\n",
       "    <tr>\n",
       "      <th>FORTALEZA</th>\n",
       "      <td>19</td>\n",
       "      <td>0.00</td>\n",
       "      <td>565.84</td>\n",
       "      <td>24.16</td>\n",
       "    </tr>\n",
       "    <tr>\n",
       "      <th>NATAL</th>\n",
       "      <td>19</td>\n",
       "      <td>0.00</td>\n",
       "      <td>455.74</td>\n",
       "      <td>0.00</td>\n",
       "    </tr>\n",
       "  </tbody>\n",
       "</table>\n",
       "</div>"
      ],
      "text/plain": [
       "           claims  %diff_from_lowest_claims  avg_time_to_close  \\\n",
       "SAO_LUIS       29                     52.63            1063.62   \n",
       "RECIFE         22                     15.79             698.86   \n",
       "FORTALEZA      19                      0.00             565.84   \n",
       "NATAL          19                      0.00             455.74   \n",
       "\n",
       "           %diff_from lowest_avg_time  \n",
       "SAO_LUIS                       133.38  \n",
       "RECIFE                          53.35  \n",
       "FORTALEZA                       24.16  \n",
       "NATAL                            0.00  "
      ]
     },
     "execution_count": 41,
     "metadata": {},
     "output_type": "execute_result"
    }
   ],
   "source": [
    "df_claims_avg_time_across_locations_no_outliers"
   ]
  },
  {
   "cell_type": "markdown",
   "id": "60e592df",
   "metadata": {},
   "source": [
    "Sao Luis the highest number of Claims, 52%  more claims with respect to Natal, which has the lowest number of Claims. Besides, the average Time to Close a Claim is 134% more in SAO LUIS in comparison with NATAL. This could be due to SAO LUIS having a larger Interquartile Range and a larger Whisker in comparison with the other Locations and without considering the outliers in Fortaleza, Recife and Natal."
   ]
  },
  {
   "cell_type": "markdown",
   "id": "62a90b18",
   "metadata": {},
   "source": [
    "**Recommendations**\n",
    "\n",
    "- SAO LUIS has the highest number of Claims (29), and the highest Average Time to Close too (1063 days).\n",
    "- NATAL has the lowest number of Claims (19) and also the lowest Average Time to Close (456 days) \n",
    "- SAO LUIS has an increase of 134% in Average Time to Close and 52% more claims both in comparison with NATAL. "
   ]
  },
  {
   "cell_type": "code",
   "execution_count": null,
   "id": "6f197da2",
   "metadata": {},
   "outputs": [],
   "source": []
  }
 ],
 "metadata": {
  "kernelspec": {
   "display_name": "Python 3 (ipykernel)",
   "language": "python",
   "name": "python3"
  },
  "language_info": {
   "codemirror_mode": {
    "name": "ipython",
    "version": 3
   },
   "file_extension": ".py",
   "mimetype": "text/x-python",
   "name": "python",
   "nbconvert_exporter": "python",
   "pygments_lexer": "ipython3",
   "version": "3.9.7"
  }
 },
 "nbformat": 4,
 "nbformat_minor": 5
}
